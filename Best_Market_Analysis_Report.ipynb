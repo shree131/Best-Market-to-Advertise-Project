{
 "cells": [
  {
   "cell_type": "markdown",
   "metadata": {},
   "source": [
    "# Investigating the Best Market to Advertise in\n",
    "\n",
    "In this project, we are analyzing the best market to invest in for our e-learning client company that specialize in online courses in web and mobile development among others. THe company would like to promote their product and invest some money in finding the Best Markets to Advertise In advertisement. Our goal in this project is to find out the two best markets to advertise our product in.\n",
    "\n",
    "Some questions we would like to answer throughout the analysis:\n",
    "-\tWhat is the best market to invest in advertisement of products (courses)?\n",
    "-\tBest value? Most cost-effective? Best in terms of success-rate?\n",
    "\n",
    "-\tAllows the company to strategically invest their resources in a advertisement that yields successful customer attraction and retention.\n",
    "-\tAllows to get more # of customers and get valuable customers.\n"
   ]
  },
  {
   "cell_type": "markdown",
   "metadata": {},
   "source": [
    "## Identifying the Right Dataset to Fit the Goal\n",
    "One possible way to collect relevant data is to organize our own survey. However, this process could be expensive and time consuming and because the clients need the analysis soon for their launch, we explored other options.\n",
    "\n",
    "One interesting dataset we came across was a survey posted by a similar e-learning company: FreeCodeCamp. With medium publications having 40.000 followers, their surveys managed to attract quite a lot (20,282 responses) of new coders (< 5 yrs). Glimpse into how people are learning to code.The entire dataset of participants’ individual responses to all 48/16? questions. Goal was to understand these people's motivations in learning to code, how they're learning to code, their demographics, and their socioeconomic background. Read more on their [website](https://www.freecodecamp.org/news/we-asked-15-000-people-who-they-are-and-how-theyre-learning-to-code-4104e29b2781#.5mxwnyk80).\n",
    "\n",
    "These dataset can be downloaded at the [public GitHub](https://github.com/freeCodeCamp/2017-new-coder-survey/tree/master?tab=readme-ov-file). \n",
    "\n",
    "For this project, we'll be working with the raw data by merging the following datasets together and prepping the data for analysis:\n",
    "1. **2017-new-coder-survey-part-1.csv** - the first half of the survey. 100% of respondants completed this section.\n",
    "2. **2017-new-coder-survey-part-2.csv** - the first half of the survey, plus the second half - which about 95% of respondants also completed."
   ]
  }
 ],
 "metadata": {
  "language_info": {
   "name": "python"
  }
 },
 "nbformat": 4,
 "nbformat_minor": 2
}

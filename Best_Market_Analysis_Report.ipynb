{
 "cells": [
  {
   "cell_type": "markdown",
   "metadata": {},
   "source": [
    "# Identifying Optimal Markets for Advertising E-Learning Products\n",
    "\n",
    "In this project, our goal is to identify the most promising markets for an e-learning company specializing in online courses in web development, mobile development, data science, and other subjects. The company aims to maximize its advertising investment by targeting markets with the highest potential for customer conversion.\n",
    "\n",
    "Through this analysis, we will recommend two to three optimal markets for the company to allocate its advertising resources. Specifically, we will address the following questions to assist in the decision-making process:\n",
    "\n",
    "* Which markets are best for advertising the company's courses in terms of the number of valuable customers and their willingness to pay the $59 monthly subscription fee?\n",
    "* What demographic insights can be drawn from the best markets to enable targeted advertising to specific demographic groups?\n"
   ]
  },
  {
   "cell_type": "markdown",
   "metadata": {},
   "source": [
    "## Selecting the Right Dataset for Our Analysis\n",
    "One possible approach would be to conduct our own survey to gather relevant user data tailored to our specific needs. However, given the limited time and resources available for this marketing initiative, this option is not feasible.\n",
    "\n",
    "After exploring various alternatives, we found a dataset that closely aligns with our requirements: a survey conducted by the e-learning company FreeCodeCamp. With a large following of over 40,000, the 2017 survey attracted a substantial number of responses (20,282) from new coders (with less than 5 years of experience). This survey provides valuable insights into the coders' job interests, fields of work, learning resources, income, and more. The goal was to understand their interests, learning methods, demographics, and socioeconomic backgrounds. Further details about the survey can be found on their [website](https://www.freecodecamp.org/news/we-asked-15-000-people-who-they-are-and-how-theyre-learning-to-code-4104e29b2781#.5mxwnyk80). The dataset is also available for download from their public [GitHub repository](https://github.com/freeCodeCamp/2017-new-coder-survey/tree/master?tab=readme-ov-file).\n",
    "\n",
    "The survey provides two raw datasets:\n",
    "\n",
    "* *2017-new-coder-survey-part-1.csv* - The first half of the survey, completed by 100% of respondents.\n",
    "* *2017-new-coder-survey-part-2.csv* - The entire survey, including both parts one and two, completed by 95% of respondents.\n",
    "\n",
    "For our analysis, we will work with the second dataset, which includes both parts of the survey. We will clean and prepare the raw data to fit our analysis needs."
   ]
  },
  {
   "cell_type": "markdown",
   "metadata": {},
   "source": [
    "### Refining Our Objectives\n",
    "\n",
    "To guide our analysis effectively, we will refine our objectives with specific criteria tailored to our goals:\n",
    "\n",
    "1. **Geographical Distribution:** Where are these new coders located?\n",
    "2. **Subscription Willingness:** Will they be willing to pay for the $59/mo subscription fee?\n",
    "3. **Interest Alignment:** Does their interest align with the products and services offered by the client, specifically in web development, mobile development, and data science courses?\n",
    "4. **Language Consideration:** What is the official language spoken, considering all courses offered are in English?\n",
    "5. **Learning Habits and Demographics:** Insights into learning habits and demographic information.\n",
    "\n",
    "Given the extensive nature of the survey with over 100 columns, we will focus on loading only the most relevant columns essential for addressing our research questions and deriving actionable insights efficiently."
   ]
  },
  {
   "cell_type": "code",
   "execution_count": 97,
   "metadata": {},
   "outputs": [],
   "source": [
    "# Config option to print all interactive output in a cell\n",
    "from IPython.core.interactiveshell import InteractiveShell\n",
    "\n",
    "InteractiveShell.ast_node_interactivity = \"all\""
   ]
  },
  {
   "cell_type": "code",
   "execution_count": 98,
   "metadata": {},
   "outputs": [
    {
     "data": {
      "text/html": [
       "<div>\n",
       "<style scoped>\n",
       "    .dataframe tbody tr th:only-of-type {\n",
       "        vertical-align: middle;\n",
       "    }\n",
       "\n",
       "    .dataframe tbody tr th {\n",
       "        vertical-align: top;\n",
       "    }\n",
       "\n",
       "    .dataframe thead th {\n",
       "        text-align: right;\n",
       "    }\n",
       "</style>\n",
       "<table border=\"1\" class=\"dataframe\">\n",
       "  <thead>\n",
       "    <tr style=\"text-align: right;\">\n",
       "      <th></th>\n",
       "      <th>#</th>\n",
       "      <th>How old are you?</th>\n",
       "      <th>What's your gender?</th>\n",
       "      <th>Which country are you a citizen of?</th>\n",
       "      <th>Which country do you currently live in?</th>\n",
       "      <th>Which language do you you speak at home with your family?</th>\n",
       "      <th>About how much money did you make last year (in US dollars)?</th>\n",
       "      <th>jobs_interested_in</th>\n",
       "      <th>months_learning</th>\n",
       "      <th>total_spent_learning</th>\n",
       "      <th>learning_resources</th>\n",
       "      <th>attend_bootcamp</th>\n",
       "      <th>which_bootcamp</th>\n",
       "      <th>Regarding employment status, are you currently...</th>\n",
       "      <th>Which field do you work in?</th>\n",
       "    </tr>\n",
       "  </thead>\n",
       "  <tbody>\n",
       "    <tr>\n",
       "      <th>0</th>\n",
       "      <td>21db37adb60cdcafadfa7dca1b13b6b1</td>\n",
       "      <td>34</td>\n",
       "      <td>male</td>\n",
       "      <td>United States of America</td>\n",
       "      <td>United States of America</td>\n",
       "      <td>English</td>\n",
       "      <td>NaN</td>\n",
       "      <td>Full-Stack Web Developer</td>\n",
       "      <td>6</td>\n",
       "      <td>80</td>\n",
       "      <td>Codecademy, Stack Overflow, W3Schools, CSS Tri...</td>\n",
       "      <td>No</td>\n",
       "      <td>NaN</td>\n",
       "      <td>Not working but looking for work</td>\n",
       "      <td>NaN</td>\n",
       "    </tr>\n",
       "    <tr>\n",
       "      <th>1</th>\n",
       "      <td>e0b92236ac53b58f079231e014748dc3</td>\n",
       "      <td>26</td>\n",
       "      <td>male</td>\n",
       "      <td>Brazil</td>\n",
       "      <td>Brazil</td>\n",
       "      <td>Portuguese</td>\n",
       "      <td>15000</td>\n",
       "      <td>NaN</td>\n",
       "      <td>48</td>\n",
       "      <td>0</td>\n",
       "      <td>freeCodeCamp, Udacity, Khan Academy, EdX, Mozi...</td>\n",
       "      <td>No</td>\n",
       "      <td>NaN</td>\n",
       "      <td>Employed for wages</td>\n",
       "      <td>software development and IT</td>\n",
       "    </tr>\n",
       "    <tr>\n",
       "      <th>2</th>\n",
       "      <td>21ba173828fbe9e27ccebaf4d5166a55</td>\n",
       "      <td>21</td>\n",
       "      <td>male</td>\n",
       "      <td>United States of America</td>\n",
       "      <td>United States of America</td>\n",
       "      <td>Spanish</td>\n",
       "      <td>13000</td>\n",
       "      <td>Front-End Web Developer, Back-End Web Develo...</td>\n",
       "      <td>5</td>\n",
       "      <td>1000</td>\n",
       "      <td>Udemy, Codecademy, CSS Tricks, freeCodeCamp, M...</td>\n",
       "      <td>No</td>\n",
       "      <td>NaN</td>\n",
       "      <td>Employed for wages</td>\n",
       "      <td>software development and IT</td>\n",
       "    </tr>\n",
       "  </tbody>\n",
       "</table>\n",
       "</div>"
      ],
      "text/plain": [
       "                                  # How old are you? What's your gender?  \\\n",
       "0  21db37adb60cdcafadfa7dca1b13b6b1               34                male   \n",
       "1  e0b92236ac53b58f079231e014748dc3               26                male   \n",
       "2  21ba173828fbe9e27ccebaf4d5166a55               21                male   \n",
       "\n",
       "  Which country are you a citizen of? Which country do you currently live in?  \\\n",
       "0            United States of America                United States of America   \n",
       "1                              Brazil                                  Brazil   \n",
       "2            United States of America                United States of America   \n",
       "\n",
       "  Which language do you you speak at home with your family?  \\\n",
       "0                                            English          \n",
       "1                                         Portuguese          \n",
       "2                                            Spanish          \n",
       "\n",
       "  About how much money did you make last year (in US dollars)?  \\\n",
       "0                                                NaN             \n",
       "1                                              15000             \n",
       "2                                              13000             \n",
       "\n",
       "                                  jobs_interested_in months_learning  \\\n",
       "0                           Full-Stack Web Developer               6   \n",
       "1                                                NaN              48   \n",
       "2    Front-End Web Developer, Back-End Web Develo...               5   \n",
       "\n",
       "  total_spent_learning                                 learning_resources  \\\n",
       "0                   80  Codecademy, Stack Overflow, W3Schools, CSS Tri...   \n",
       "1                    0  freeCodeCamp, Udacity, Khan Academy, EdX, Mozi...   \n",
       "2                 1000  Udemy, Codecademy, CSS Tricks, freeCodeCamp, M...   \n",
       "\n",
       "  attend_bootcamp which_bootcamp  \\\n",
       "0              No            NaN   \n",
       "1              No            NaN   \n",
       "2              No            NaN   \n",
       "\n",
       "  Regarding employment status, are you currently...  \\\n",
       "0                  Not working but looking for work   \n",
       "1                                Employed for wages   \n",
       "2                                Employed for wages   \n",
       "\n",
       "   Which field do you work in?  \n",
       "0                          NaN  \n",
       "1  software development and IT  \n",
       "2  software development and IT  "
      ]
     },
     "execution_count": 98,
     "metadata": {},
     "output_type": "execute_result"
    },
    {
     "data": {
      "text/html": [
       "<div>\n",
       "<style scoped>\n",
       "    .dataframe tbody tr th:only-of-type {\n",
       "        vertical-align: middle;\n",
       "    }\n",
       "\n",
       "    .dataframe tbody tr th {\n",
       "        vertical-align: top;\n",
       "    }\n",
       "\n",
       "    .dataframe thead th {\n",
       "        text-align: right;\n",
       "    }\n",
       "</style>\n",
       "<table border=\"1\" class=\"dataframe\">\n",
       "  <thead>\n",
       "    <tr style=\"text-align: right;\">\n",
       "      <th></th>\n",
       "      <th>#</th>\n",
       "      <th>How old are you?</th>\n",
       "      <th>What's your gender?</th>\n",
       "      <th>Which country are you a citizen of?</th>\n",
       "      <th>Which country do you currently live in?</th>\n",
       "      <th>Which language do you you speak at home with your family?</th>\n",
       "      <th>About how much money did you make last year (in US dollars)?</th>\n",
       "      <th>jobs_interested_in</th>\n",
       "      <th>months_learning</th>\n",
       "      <th>total_spent_learning</th>\n",
       "      <th>learning_resources</th>\n",
       "      <th>attend_bootcamp</th>\n",
       "      <th>which_bootcamp</th>\n",
       "      <th>Regarding employment status, are you currently...</th>\n",
       "      <th>Which field do you work in?</th>\n",
       "    </tr>\n",
       "  </thead>\n",
       "  <tbody>\n",
       "    <tr>\n",
       "      <th>18884</th>\n",
       "      <td>c0d0b88bc2b76087232bfa0327457b04</td>\n",
       "      <td>24</td>\n",
       "      <td>female</td>\n",
       "      <td>India</td>\n",
       "      <td>India</td>\n",
       "      <td>Malayalam</td>\n",
       "      <td>NaN</td>\n",
       "      <td>NaN</td>\n",
       "      <td>23</td>\n",
       "      <td>0</td>\n",
       "      <td>Code Wars, EdX, Udacity, freeCodeCamp, Codecad...</td>\n",
       "      <td>No</td>\n",
       "      <td>NaN</td>\n",
       "      <td>Employed for wages</td>\n",
       "      <td>software development and IT</td>\n",
       "    </tr>\n",
       "    <tr>\n",
       "      <th>18885</th>\n",
       "      <td>52c24e8c43bb044e1b3e1df39a5c4b9b</td>\n",
       "      <td>21</td>\n",
       "      <td>male</td>\n",
       "      <td>Italy</td>\n",
       "      <td>Italy</td>\n",
       "      <td>Italian</td>\n",
       "      <td>NaN</td>\n",
       "      <td>User Experience Designer,   Data Scientist, ...</td>\n",
       "      <td>18</td>\n",
       "      <td>0</td>\n",
       "      <td>Stack Overflow, freeCodeCamp</td>\n",
       "      <td>No</td>\n",
       "      <td>NaN</td>\n",
       "      <td>Not working but looking for work</td>\n",
       "      <td>NaN</td>\n",
       "    </tr>\n",
       "    <tr>\n",
       "      <th>18886</th>\n",
       "      <td>7b6a092fef05254d9d6c7ba565e8d3f0</td>\n",
       "      <td>NaN</td>\n",
       "      <td>male</td>\n",
       "      <td>Ghana</td>\n",
       "      <td>Ghana</td>\n",
       "      <td>English</td>\n",
       "      <td>NaN</td>\n",
       "      <td>NaN</td>\n",
       "      <td>24</td>\n",
       "      <td>0</td>\n",
       "      <td>W3Schools, Stack Overflow, Khan Academy, Codec...</td>\n",
       "      <td>No</td>\n",
       "      <td>NaN</td>\n",
       "      <td>NaN</td>\n",
       "      <td>NaN</td>\n",
       "    </tr>\n",
       "  </tbody>\n",
       "</table>\n",
       "</div>"
      ],
      "text/plain": [
       "                                      # How old are you? What's your gender?  \\\n",
       "18884  c0d0b88bc2b76087232bfa0327457b04               24              female   \n",
       "18885  52c24e8c43bb044e1b3e1df39a5c4b9b               21                male   \n",
       "18886  7b6a092fef05254d9d6c7ba565e8d3f0              NaN                male   \n",
       "\n",
       "      Which country are you a citizen of?  \\\n",
       "18884                               India   \n",
       "18885                               Italy   \n",
       "18886                               Ghana   \n",
       "\n",
       "      Which country do you currently live in?  \\\n",
       "18884                                   India   \n",
       "18885                                   Italy   \n",
       "18886                                   Ghana   \n",
       "\n",
       "      Which language do you you speak at home with your family?  \\\n",
       "18884                                          Malayalam          \n",
       "18885                                            Italian          \n",
       "18886                                            English          \n",
       "\n",
       "      About how much money did you make last year (in US dollars)?  \\\n",
       "18884                                                NaN             \n",
       "18885                                                NaN             \n",
       "18886                                                NaN             \n",
       "\n",
       "                                      jobs_interested_in months_learning  \\\n",
       "18884                                                NaN              23   \n",
       "18885    User Experience Designer,   Data Scientist, ...              18   \n",
       "18886                                                NaN              24   \n",
       "\n",
       "      total_spent_learning                                 learning_resources  \\\n",
       "18884                    0  Code Wars, EdX, Udacity, freeCodeCamp, Codecad...   \n",
       "18885                    0                       Stack Overflow, freeCodeCamp   \n",
       "18886                    0  W3Schools, Stack Overflow, Khan Academy, Codec...   \n",
       "\n",
       "      attend_bootcamp which_bootcamp  \\\n",
       "18884              No            NaN   \n",
       "18885              No            NaN   \n",
       "18886              No            NaN   \n",
       "\n",
       "      Regarding employment status, are you currently...  \\\n",
       "18884                                Employed for wages   \n",
       "18885                  Not working but looking for work   \n",
       "18886                                               NaN   \n",
       "\n",
       "       Which field do you work in?  \n",
       "18884  software development and IT  \n",
       "18885                          NaN  \n",
       "18886                          NaN  "
      ]
     },
     "execution_count": 98,
     "metadata": {},
     "output_type": "execute_result"
    }
   ],
   "source": [
    "import pandas as pd\n",
    "\n",
    "# Define the columns to import from the dataset\n",
    "columns_to_import = [\n",
    "    '#', # Respondent ID\n",
    "    'How old are you?',\n",
    "    \"What's your gender?\",\n",
    "    'Which country are you a citizen of?',\n",
    "    'Which country do you currently live in?',\n",
    "    'Which language do you you speak at home with your family?',\n",
    "    'About how much money did you make last year (in US dollars)?',\n",
    "    'jobs_interested_in',\n",
    "    'months_learning',\n",
    "    'total_spent_learning',\n",
    "    'learning_resources',\n",
    "    'attend_bootcamp',\n",
    "    'which_bootcamp',\n",
    "    'Regarding employment status, are you currently...',\n",
    "    'Which field do you work in?'\n",
    "]\n",
    "\n",
    "# Read the specified columns from the dataset\n",
    "survey_responses = pd.read_csv('./datasets/2017-new-coder-survey-part-2.csv', dtype='object')[columns_to_import]\n",
    "\n",
    "# Display the first 3 and last 3 rows of the dataset for initial inspection\n",
    "survey_responses.head(3)\n",
    "survey_responses.tail(3)"
   ]
  },
  {
   "cell_type": "code",
   "execution_count": 3,
   "metadata": {},
   "outputs": [
    {
     "name": "stdout",
     "output_type": "stream",
     "text": [
      "<class 'pandas.core.frame.DataFrame'>\n",
      "RangeIndex: 18887 entries, 0 to 18886\n",
      "Data columns (total 15 columns):\n",
      " #   Column                                                        Non-Null Count  Dtype \n",
      "---  ------                                                        --------------  ----- \n",
      " 0   #                                                             18887 non-null  object\n",
      " 1   How old are you?                                              18443 non-null  object\n",
      " 2   What's your gender?                                           18544 non-null  object\n",
      " 3   Which country are you a citizen of?                           18444 non-null  object\n",
      " 4   Which country do you currently live in?                       18392 non-null  object\n",
      " 5   Which language do you you speak at home with your family?     18400 non-null  object\n",
      " 6   About how much money did you make last year (in US dollars)?  9546 non-null   object\n",
      " 7   jobs_interested_in                                            8591 non-null   object\n",
      " 8   months_learning                                               17534 non-null  object\n",
      " 9   total_spent_learning                                          17054 non-null  object\n",
      " 10  learning_resources                                            18284 non-null  object\n",
      " 11  attend_bootcamp                                               18126 non-null  object\n",
      " 12  which_bootcamp                                                1023 non-null   object\n",
      " 13  Regarding employment status, are you currently...             17179 non-null  object\n",
      " 14  Which field do you work in?                                   9665 non-null   object\n",
      "dtypes: object(15)\n",
      "memory usage: 2.2+ MB\n"
     ]
    }
   ],
   "source": [
    "# Display column information\n",
    "survey_responses.info()"
   ]
  },
  {
   "cell_type": "markdown",
   "metadata": {},
   "source": [
    "**Initial Observations:**\n",
    "\n",
    "* There are 18,886 entries and 15 columns.\n",
    "* There are no empty rows (no null IDs), but certain columns have null values. This is handled in the cleaning stage on as needed basis. We also remove any null values in `jobs_interested_in`. The reasoning is explained further in the report.\n",
    "* The column names are long and difficult to understand. We'll standardize the column names to easily understandable names.\n",
    "* Initially all types were object in import. Although this matches the data types for most columns, some will be corrected."
   ]
  },
  {
   "cell_type": "markdown",
   "metadata": {},
   "source": [
    "## Examining Sample Representativity of Population\n",
    "\n",
    "Before analyzing the sample data, it is crucial to determine whether the sample is representative for our  target population. Specifically, we need to ensure that the data includes the appropriate categories of respondents that meet out analysis needs, such as coders likely to purchase courses in *web development, mobile development, and data science*."
   ]
  },
  {
   "cell_type": "markdown",
   "metadata": {},
   "source": [
    "**The Job of Interest Variable:**\n",
    "\n",
    "The variable `jobs_interested_in` should serve as a good indicator of the respondent's interest and whether there is sufficient alignment to consider the sample representative of our potential customers.\n",
    "\n",
    "We start by examining the frequency distribution table of the jobs people are interested in."
   ]
  },
  {
   "cell_type": "code",
   "execution_count": 4,
   "metadata": {},
   "outputs": [
    {
     "data": {
      "text/plain": [
       "jobs_interested_in\n",
       "NaN                                                                                                                                                                                                                                           54.513687\n",
       "Full-Stack Web Developer                                                                                                                                                                                                                       5.199343\n",
       "  Front-End Web Developer                                                                                                                                                                                                                      2.885583\n",
       "  Data Scientist                                                                                                                                                                                                                               1.043045\n",
       "Back-End Web Developer                                                                                                                                                                                                                         0.926563\n",
       "                                                                                                                                                                                                                                                ...    \n",
       "  Data Scientist,   Front-End Web Developer,   Quality Assurance Engineer, Full-Stack Web Developer,   User Experience Designer, Back-End Web Developer, Data Engineer                                                                         0.005295\n",
       "Data Engineer,   Data Scientist, Information Security,   Front-End Web Developer,   User Experience Designer                                                                                                                                   0.005295\n",
       "  Data Scientist,   Front-End Web Developer,   Product Manager, Data Engineer                                                                                                                                                                  0.005295\n",
       "Data Engineer, Back-End Web Developer, Game Developer,   Product Manager,   DevOps / SysAdmin,   Mobile Developer, Information Security,   Data Scientist, Full-Stack Web Developer,   User Experience Designer,   Front-End Web Developer     0.005295\n",
       "  User Experience Designer,   Data Scientist,   Mobile Developer, Full-Stack Web Developer,   Front-End Web Developer, Back-End Web Developer, Data Engineer                                                                                   0.005295\n",
       "Name: Job Interest Count, Length: 3847, dtype: float64"
      ]
     },
     "execution_count": 4,
     "metadata": {},
     "output_type": "execute_result"
    }
   ],
   "source": [
    "# Count the occurrences of each job of interest and calculate the percentage of each job relative to the total count\n",
    "jobs_interest_count = survey_responses['jobs_interested_in'].value_counts(normalize=True, dropna=False) * 100\n",
    "\n",
    "# Update name to the series for clarity\n",
    "jobs_interest_count.name = 'Job Interest Count'\n",
    "\n",
    "jobs_interest_count"
   ]
  },
  {
   "cell_type": "markdown",
   "metadata": {},
   "source": [
    "Athough the information is quite granular and difficult to assess, here are some key points we noted:\n",
    "* 55% of the responses were `NaN`, indicating that more than half of the respondents didn't have or specify a clear job of interest.\n",
    "* Among the stand-alone choices, *Full-Stack Web Developer* was the most frequent response. accounting for 5% of the total.\n",
    "\n",
    "Since jobs_interested_in is a key variable for identifying our target audience for marketing advertisements, we will temporarily remove the `NaN` values to check for representativity."
   ]
  },
  {
   "cell_type": "code",
   "execution_count": 5,
   "metadata": {},
   "outputs": [
    {
     "data": {
      "text/plain": [
       "jobs_interested_in\n",
       "Full-Stack Web Developer                                                                                                                                                                                                                      11.430567\n",
       "  Front-End Web Developer                                                                                                                                                                                                                      6.343848\n",
       "  Data Scientist                                                                                                                                                                                                                               2.293097\n",
       "Back-End Web Developer                                                                                                                                                                                                                         2.037015\n",
       "Game Developer                                                                                                                                                                                                                                 1.722733\n",
       "                                                                                                                                                                                                                                                ...    \n",
       "  Data Scientist,   Front-End Web Developer,   Quality Assurance Engineer, Full-Stack Web Developer,   User Experience Designer, Back-End Web Developer, Data Engineer                                                                         0.011640\n",
       "Data Engineer,   Data Scientist, Information Security,   Front-End Web Developer,   User Experience Designer                                                                                                                                   0.011640\n",
       "  Data Scientist,   Front-End Web Developer,   Product Manager, Data Engineer                                                                                                                                                                  0.011640\n",
       "Data Engineer, Back-End Web Developer, Game Developer,   Product Manager,   DevOps / SysAdmin,   Mobile Developer, Information Security,   Data Scientist, Full-Stack Web Developer,   User Experience Designer,   Front-End Web Developer     0.011640\n",
       "  User Experience Designer,   Data Scientist,   Mobile Developer, Full-Stack Web Developer,   Front-End Web Developer, Back-End Web Developer, Data Engineer                                                                                   0.011640\n",
       "Name: proportion, Length: 3846, dtype: float64"
      ]
     },
     "execution_count": 5,
     "metadata": {},
     "output_type": "execute_result"
    },
    {
     "name": "stdout",
     "output_type": "stream",
     "text": [
      "Non-null Job Interest Count: 8591\n"
     ]
    }
   ],
   "source": [
    "# Filter out NaN values from the 'jobs_interested_in' column using boolean indexing and store the non-null values in a new series\n",
    "interests_non_null = survey_responses['jobs_interested_in'].dropna()\n",
    "\n",
    "# Generate the frequency distribution table without null values\n",
    "interests_non_null.value_counts(normalize=True, dropna=False) * 100\n",
    "\n",
    "# Print the count of non-null job interests\n",
    "print('Non-null Job Interest Count:', interests_non_null.count())"
   ]
  },
  {
   "cell_type": "markdown",
   "metadata": {},
   "source": [
    "**Visualizing Frequency Distribution of Job Interests**\n",
    "\n",
    "In this section, we aim to visualize the distribution of the number of job interests expressed by survey respondents. This exploration will provide insights into the diversity of interests among our target audience and inform our company's marketing strategies accordingly."
   ]
  },
  {
   "cell_type": "code",
   "execution_count": 113,
   "metadata": {},
   "outputs": [
    {
     "data": {
      "image/png": "[encoded data removed]",
      "text/plain": [
       "<Figure size 640x480 with 1 Axes>"
      ]
     },
     "metadata": {},
     "output_type": "display_data"
    }
   ],
   "source": [
    "import matplotlib.pyplot as plt\n",
    "from numpy import arange\n",
    "\n",
    "# Ensure inline plotting in Jupyter notebooks\n",
    "%matplotlib inline\n",
    "\n",
    "# Split the multi-course responses into an array of interests\n",
    "split_interests_col = interests_non_null.str.split(',')\n",
    "\n",
    "# Calculate the number of interests for each respondent\n",
    "number_of_interests = split_interests_col.str.len()\n",
    "\n",
    "# Plot the frequency distribution of the number of interests of individual respondents\n",
    "number_of_interests.plot.hist(bins=range(1, 15), label='', color='navy') # edgecolor='black'\n",
    "\n",
    "# Set the title and labels of the plot\n",
    "plt.title('Distribution of Job Interests Among Respondents')\n",
    "plt.xlabel('Number of Job Interests')\n",
    "plt.xticks(arange(1, 14, 1))  # Set the x-ticks from 1 to 13 with a step of 1\n",
    "plt.ylabel('Number of Respondents')\n",
    "plt.axvline(number_of_interests.mean(), color='black', label='Mean', linestyle='--')\n",
    "plt.legend()\n",
    "\n",
    "plt.show();"
   ]
  },
  {
   "cell_type": "code",
   "execution_count": 114,
   "metadata": {},
   "outputs": [
    {
     "data": {
      "text/plain": [
       "count    8591.000000\n",
       "mean        3.254569\n",
       "std         2.173827\n",
       "min         1.000000\n",
       "25%         1.000000\n",
       "50%         3.000000\n",
       "75%         5.000000\n",
       "max        13.000000\n",
       "Name: jobs_interested_in, dtype: float64"
      ]
     },
     "execution_count": 114,
     "metadata": {},
     "output_type": "execute_result"
    }
   ],
   "source": [
    "# Display key statistics\n",
    "number_of_interests.describe()"
   ]
  },
  {
   "cell_type": "markdown",
   "metadata": {},
   "source": [
    "The right-skewed histogram shows that the bulk of the distribution lies at the left extreme. This indicates that the majority of people have only a few areas of interest related to their career endeavor."
   ]
  },
  {
   "cell_type": "markdown",
   "metadata": {},
   "source": [
    "**Focusing Analysis on Main Courses Offered:**\n",
    "\n",
    "While having more interests could potentially lead to selling more courses, it might also mean that the interests would be too divergent to be valuable when our goal is to target a specific set of courses.\n",
    "\n",
    "To refine our analysis and align it with our advertising objectives, we will narrow our focus to the main courses offered by our company: Web Development, Mobile Development, and Data Science. "
   ]
  },
  {
   "cell_type": "code",
   "execution_count": 8,
   "metadata": {},
   "outputs": [
    {
     "data": {
      "text/html": [
       "<div>\n",
       "<style scoped>\n",
       "    .dataframe tbody tr th:only-of-type {\n",
       "        vertical-align: middle;\n",
       "    }\n",
       "\n",
       "    .dataframe tbody tr th {\n",
       "        vertical-align: top;\n",
       "    }\n",
       "\n",
       "    .dataframe thead th {\n",
       "        text-align: right;\n",
       "    }\n",
       "</style>\n",
       "<table border=\"1\" class=\"dataframe\">\n",
       "  <thead>\n",
       "    <tr style=\"text-align: right;\">\n",
       "      <th></th>\n",
       "      <th>Count</th>\n",
       "      <th>Proportion (%)</th>\n",
       "    </tr>\n",
       "    <tr>\n",
       "      <th>Interested in Main Courses</th>\n",
       "      <th></th>\n",
       "      <th></th>\n",
       "    </tr>\n",
       "  </thead>\n",
       "  <tbody>\n",
       "    <tr>\n",
       "      <th>True</th>\n",
       "      <td>7,800</td>\n",
       "      <td>90.79%</td>\n",
       "    </tr>\n",
       "    <tr>\n",
       "      <th>False</th>\n",
       "      <td>791</td>\n",
       "      <td>9.21%</td>\n",
       "    </tr>\n",
       "  </tbody>\n",
       "</table>\n",
       "</div>"
      ],
      "text/plain": [
       "                            Count Proportion (%)\n",
       "Interested in Main Courses                      \n",
       "True                        7,800         90.79%\n",
       "False                         791          9.21%"
      ]
     },
     "execution_count": 8,
     "metadata": {},
     "output_type": "execute_result"
    }
   ],
   "source": [
    "# Create a boolean Series for jobs that align with the main courses offered\n",
    "main_interests_bool = interests_non_null.str.lower().str.contains('web developer|mobile developer|data scientist')\n",
    "\n",
    "# Generate frequency and proportional distribution, applying formatting\n",
    "main_count = main_interests_bool.value_counts().apply(lambda x: f\"{x:,}\") # Apply thousand separater format\n",
    "main_proportion = (main_interests_bool.value_counts(normalize=True) * 100).apply(lambda x: f\"{x: .2f}%\") # Apply percentage format\n",
    "\n",
    "# Create a DataFrame with the formatted counts and proportions\n",
    "frequency_table = pd.DataFrame(data={'Count': main_count, 'Proportion (%)': main_proportion})\n",
    "\n",
    "# Update the name of the index\n",
    "frequency_table.index.name = 'Interested in Main Courses'\n",
    "\n",
    "frequency_table"
   ]
  },
  {
   "cell_type": "markdown",
   "metadata": {},
   "source": [
    "**Observations:**\n",
    "\n",
    "Out of 8,591 respondents who specified at least one job of interest, **25%** of them had a very specific interest in just one job. A significant **75%** of the respondents had five or fewer job interests.\n",
    "\n",
    "While varied interests could potentially translate into more business opportunities by selling more courses and retaining customers, it is noteworthy that **91%** of the survey respondents were interested in at least one of the main courses offered by the company, i.e., Web Development, Mobile Development, and Data Science.\n",
    "\n",
    "Given this, the data appears representative, with 91% of the respondents showing interest in one of the most popular courses offered by the company."
   ]
  },
  {
   "cell_type": "markdown",
   "metadata": {},
   "source": [
    "## Clean and Prepare Data for Analysis\n",
    "To clean and prepare the data for analysis, we'll perform the following steps:\n",
    "\n",
    "1. **Standardize Column Names:** Rename columns to be more understandable and consistent.\n",
    "2. **Replace Bad Data and Correct Data Types:** Change the data types of columns that were incorrectly imported as object types to the types appropriate for analysis.\n",
    "3. **Remove Unspecified Job Interests:** Exclude records where the job interest is unspecified, as these will not be valuable for our analysis."
   ]
  },
  {
   "cell_type": "markdown",
   "metadata": {},
   "source": [
    "**Standardize Column Names**\n",
    "\n",
    "Below, we're using a Python `dict` to map the existing column names to the desired column names. For standardization, we will use *CamelCase* with the first letter capitalized."
   ]
  },
  {
   "cell_type": "code",
   "execution_count": 115,
   "metadata": {},
   "outputs": [
    {
     "data": {
      "text/plain": [
       "Index(['#', 'How old are you?', 'What's your gender?',\n",
       "       'Which country are you a citizen of?',\n",
       "       'Which country do you currently live in?',\n",
       "       'Which language do you you speak at home with your family?',\n",
       "       'About how much money did you make last year (in US dollars)?',\n",
       "       'jobs_interested_in', 'months_learning', 'total_spent_learning',\n",
       "       'learning_resources', 'attend_bootcamp', 'which_bootcamp',\n",
       "       'Regarding employment status, are you currently...',\n",
       "       'Which field do you work in?'],\n",
       "      dtype='object')"
      ]
     },
     "execution_count": 115,
     "metadata": {},
     "output_type": "execute_result"
    }
   ],
   "source": [
    "# List the current column names\n",
    "survey_responses.columns"
   ]
  },
  {
   "cell_type": "code",
   "execution_count": 10,
   "metadata": {},
   "outputs": [
    {
     "data": {
      "text/plain": [
       "Index(['Id', 'Age', 'Gender', 'CountryCitizen', 'CountryLive', 'Language',\n",
       "       'IncomePrevYear', 'JobRoleInterest', 'MonthsProgramming',\n",
       "       'MoneyForLearning', 'LearningResources', 'AttendedBootcamp',\n",
       "       'BootcampAttended', 'EmploymentStatus', 'JobField'],\n",
       "      dtype='object')"
      ]
     },
     "execution_count": 10,
     "metadata": {},
     "output_type": "execute_result"
    }
   ],
   "source": [
    "# Create a list containing the standardized column names in CamelCase\n",
    "simplified_names = ['Id', 'Age', 'Gender', 'CountryCitizen', 'CountryLive', 'Language', 'IncomePrevYear', 'JobRoleInterest', 'MonthsProgramming', 'MoneyForLearning', 'LearningResources', 'AttendedBootcamp', 'BootcampAttended', 'EmploymentStatus', 'JobField']\n",
    "\n",
    "# Create an empty dictionary to store the mapping of current to desired column names\n",
    "column_mapping = {}\n",
    "\n",
    "# Map the current column names to the desired column names using a loop\n",
    "for i, j in zip(survey_responses.columns, simplified_names):\n",
    "    column_mapping[i] = j\n",
    "\n",
    "# Update the column names in the DataFrame using the column mapping\n",
    "survey_responses.rename(columns=column_mapping, inplace=True)\n",
    "\n",
    "# Display the updated column names to confirm the changes\n",
    "survey_responses.columns"
   ]
  },
  {
   "cell_type": "markdown",
   "metadata": {},
   "source": [
    "As a recap, we have:\n",
    "* columns that describe a demographic attribute or status (e.g., 'Age', 'Gender', 'CountryCitizen', 'EmploymentStatus')\n",
    "* columns related to job or learning aspects (e.g., 'JobRoleInterest', 'MonthsProgramming', 'MoneyForLearning', 'LearningResources', 'AttendedBootcamp')."
   ]
  },
  {
   "cell_type": "markdown",
   "metadata": {},
   "source": [
    "**2. Replace Bad Data and Correct Data Types**\n",
    "\n",
    "Initially, all data types were inported as objects. We might want to change some of them so it better represents the data and provided for an accurate calculation during analysis. - It makes sense to remove convert age, population, income related columns, money for learning, months programming to int as we plan on performing calculations with some of these columns later."
   ]
  },
  {
   "cell_type": "code",
   "execution_count": 11,
   "metadata": {},
   "outputs": [
    {
     "data": {
      "text/plain": [
       "Age                  object\n",
       "MonthsProgramming    object\n",
       "MoneyForLearning     object\n",
       "dtype: object"
      ]
     },
     "execution_count": 11,
     "metadata": {},
     "output_type": "execute_result"
    }
   ],
   "source": [
    "# \n",
    "cols_to_update = ['Age', 'MonthsProgramming', 'MoneyForLearning']\n",
    "\n",
    "survey_responses[cols_to_update].dtypes"
   ]
  },
  {
   "cell_type": "code",
   "execution_count": 12,
   "metadata": {},
   "outputs": [],
   "source": [
    "# Convert the 'Age' column to float\n",
    "survey_responses['Age'] = survey_responses['Age'].astype(float)"
   ]
  },
  {
   "cell_type": "markdown",
   "metadata": {},
   "source": [
    "The remaining columns contain erroneous data. To rectify the issue, the following function is used to replace the bad characters."
   ]
  },
  {
   "cell_type": "code",
   "execution_count": 13,
   "metadata": {},
   "outputs": [],
   "source": [
    "# Function to clean up a column by replacing bad characters with specified replacements\n",
    "def cleanBadData(column, *args):\n",
    "    \"\"\"\n",
    "    Clean up a column by replacing specified bad characters with their replacements.\n",
    "\n",
    "    Args:\n",
    "        column (str or pd.Series): The column to clean.\n",
    "        *args (list of tuple): Variable-length argument list containing tuples of bad character replacements.\n",
    "\n",
    "    Returns:\n",
    "        str or pd.Series: The cleaned column.\n",
    "    \"\"\"\n",
    "    # Extract the list of bad character replacements from *args\n",
    "    bad_chars_replacements = args[0]\n",
    "\n",
    "    # Iterate through each bad character replacement pair\n",
    "    for bad_char in bad_chars_replacements:\n",
    "        # Replace the bad character with its replacement in the column\n",
    "        column = column.replace(bad_char[0], bad_char[1])\n",
    "\n",
    "    return column\n",
    "\n"
   ]
  },
  {
   "cell_type": "code",
   "execution_count": 14,
   "metadata": {},
   "outputs": [
    {
     "data": {
      "text/plain": [
       "dtype('float64')"
      ]
     },
     "execution_count": 14,
     "metadata": {},
     "output_type": "execute_result"
    }
   ],
   "source": [
    "# Define characters and substrings that may cause type conversion issues\n",
    "bad_chars_replacements = [\n",
    "    ('xxxxx', '0'),          # Replace 'xxxxx' with '0'\n",
    "    ('approx $', ''),        # Remove 'approx $'\n",
    "    (' -- on books', ''),    # Remove ' -- on books'\n",
    "    ('$', ''),               # Remove '$'\n",
    "    ('k', '000'),            # Replace 'k' with '000'\n",
    "    ('free courses', '0'),   # Replace 'free courses' with '0'\n",
    "    (',', ''),               # Remove commas\n",
    "    (' months', ''),         # Remove ' months'\n",
    "    (' mont', '')            # Remove ' mont'\n",
    "]\n",
    "\n",
    "\n",
    "# Convert 'MonthsProgramming' column to string type and drop rows containing 'code camp'\n",
    "survey_responses['MonthsProgramming'] = survey_responses['MonthsProgramming'].astype(str)\n",
    "survey_responses = survey_responses[~survey_responses['MonthsProgramming'].str.contains('code camp')]\n",
    "\n",
    "# Clean 'MonthsProgramming' column and convert to a float\n",
    "survey_responses['MonthsProgramming'] = survey_responses['MonthsProgramming'].apply(cleanBadData, args=(bad_chars_replacements,))\n",
    "survey_responses['MonthsProgramming'] = survey_responses['MonthsProgramming'].astype(float)\n",
    "survey_responses['MonthsProgramming'].dtype\n"
   ]
  },
  {
   "cell_type": "code",
   "execution_count": 15,
   "metadata": {},
   "outputs": [
    {
     "data": {
      "text/plain": [
       "dtype('float64')"
      ]
     },
     "execution_count": 15,
     "metadata": {},
     "output_type": "execute_result"
    }
   ],
   "source": [
    "# Clean 'MoneyForLearning' column and convert to a float\n",
    "survey_responses['MoneyForLearning'] = survey_responses['MoneyForLearning'].astype(str)\n",
    "survey_responses['MoneyForLearning'] = survey_responses['MoneyForLearning'].apply(cleanBadData, args=(bad_chars_replacements,))\n",
    "survey_responses['MoneyForLearning'] = survey_responses['MoneyForLearning'].astype(float)\n",
    "\n",
    "survey_responses['MoneyForLearning'].dtype"
   ]
  },
  {
   "cell_type": "markdown",
   "metadata": {},
   "source": [
    "**3. Remove Unspecified Job Interests**\n",
    "\n",
    "Given our focus on participants interested in the offered courses, we will exclude rows where participants have not specified their job interests. Without this information, we cannot accurately determine their interests, making it a better choice to omit these entries from our analysis."
   ]
  },
  {
   "cell_type": "code",
   "execution_count": 16,
   "metadata": {},
   "outputs": [
    {
     "data": {
      "text/plain": [
       "JobRoleInterest\n",
       "Full-Stack Web Developer                                                                                                                                                                                                                      11.431898\n",
       "  Front-End Web Developer                                                                                                                                                                                                                      6.344587\n",
       "  Data Scientist                                                                                                                                                                                                                               2.293364\n",
       "Back-End Web Developer                                                                                                                                                                                                                         2.037253\n",
       "Game Developer                                                                                                                                                                                                                                 1.722934\n",
       "                                                                                                                                                                                                                                                ...    \n",
       "  Data Scientist,   Front-End Web Developer,   Quality Assurance Engineer, Full-Stack Web Developer,   User Experience Designer, Back-End Web Developer, Data Engineer                                                                         0.011641\n",
       "Data Engineer,   Data Scientist, Information Security,   Front-End Web Developer,   User Experience Designer                                                                                                                                   0.011641\n",
       "  Data Scientist,   Front-End Web Developer,   Product Manager, Data Engineer                                                                                                                                                                  0.011641\n",
       "Data Engineer, Back-End Web Developer, Game Developer,   Product Manager,   DevOps / SysAdmin,   Mobile Developer, Information Security,   Data Scientist, Full-Stack Web Developer,   User Experience Designer,   Front-End Web Developer     0.011641\n",
       "  User Experience Designer,   Data Scientist,   Mobile Developer, Full-Stack Web Developer,   Front-End Web Developer, Back-End Web Developer, Data Engineer                                                                                   0.011641\n",
       "Name: proportion, Length: 3846, dtype: float64"
      ]
     },
     "execution_count": 16,
     "metadata": {},
     "output_type": "execute_result"
    }
   ],
   "source": [
    "# Drop rows where JobsInterestedIn is null\n",
    "survey_responses = survey_responses[survey_responses['JobRoleInterest'].notnull()]\n",
    "\n",
    "survey_responses['JobRoleInterest'].value_counts(dropna=False, normalize=True) * 100"
   ]
  },
  {
   "cell_type": "markdown",
   "metadata": {},
   "source": [
    "## Analysis: Finding the Best Market\n",
    "\n",
    "**Objectives:**\n",
    "1. **Geographical Distribution**: Determine the locations of new coders and identify the regions with the highest concentration of new coders.\n",
    "3. **Learning Investment**: Assess the amount of money new coders are willing to invest in learning.\n",
    "4. **Demographic-based Advertisement**: Explore demographic factors such as gender, age, student vs. full-time worker status, and preferred learning schedule for targeted advertising campaigns.\n",
    "\n",
    "By addressing these objectives and considering additional factors, we can gain valuable insights into the new coder population and tailor our strategies effectively."
   ]
  },
  {
   "cell_type": "markdown",
   "metadata": {},
   "source": [
    "### 1. Identifying New Coder Density by Geographical Location\n",
    "\n",
    "The dataset offers geographical data through two variables:\n",
    "- The `CountryCitizen` variable denotes the participants' country of origin.\n",
    "- The `CountryLive` variable indicates the country where participants currently reside, which may differ from their origin country.\n",
    "\n",
    "For our analysis, we prioritize the `CountryLive` variable as it reflects the participants' current location, aligning with our advertising focus.\n",
    "\n",
    "Considering that the dataset provides information at the country level, we treat each country as an individual market. Our objective is to identify two to three optimal countries for advertising. A key metric for assessing market potential is the number of potential customers. In this context, a larger number of potential customers in a market signifies greater opportunity. For instance, achieving a 10% conversion rate among 5,000 potential customers in Market A surpasses converting 100% of the 30 potential customers in Market B."
   ]
  },
  {
   "cell_type": "code",
   "execution_count": 17,
   "metadata": {},
   "outputs": [
    {
     "data": {
      "text/plain": [
       "CountryLive\n",
       "United States of America    3806\n",
       "India                        684\n",
       "United Kingdom               387\n",
       "Canada                       327\n",
       "Germany                      159\n",
       "Brazil                       158\n",
       "Poland                       158\n",
       "Australia                    147\n",
       "Russia                       112\n",
       "Nigeria                      109\n",
       "Name: count, dtype: int64"
      ]
     },
     "execution_count": 17,
     "metadata": {},
     "output_type": "execute_result"
    }
   ],
   "source": [
    "# Tabular frequency table for the top 10 countries of location\n",
    "top_10_countries = survey_responses['CountryLive'].value_counts()[:10]\n",
    "top_10_countries"
   ]
  },
  {
   "cell_type": "markdown",
   "metadata": {},
   "source": [
    "While the table provides a granular view of the population, we'll visualize the distribution of new coders across different countries in a bar plot, providing a clear picture of the density of new coders in each country for comparison."
   ]
  },
  {
   "cell_type": "code",
   "execution_count": 18,
   "metadata": {},
   "outputs": [
    {
     "data": {
      "image/png": "[encoded data removed]",
      "text/plain": [
       "<Figure size 640x480 with 1 Axes>"
      ]
     },
     "metadata": {},
     "output_type": "display_data"
    }
   ],
   "source": [
    "# Top 4 countries by population\n",
    "top_5_countries = round(survey_responses['CountryLive'].value_counts(normalize=True) * 100, 2)[:5]\n",
    "\n",
    "# Visualize the population distribution of new coders by country\n",
    "barplot = top_5_countries.plot.bar(edgecolor='black', rot=0)\n",
    "\n",
    "plt.title('Population Distribution of New Coders by Country')\n",
    "plt.xlabel('Country')\n",
    "plt.xticks([0, 1, 2, 3, 4], ['U.S.', 'India', 'U.K.', 'Canada', 'Germany'])\n",
    "plt.ylabel('Population Density (%)')\n",
    "plt.yticks(arange(0, 101, 10))\n",
    "\n",
    "# plt.bar_label(barplot, labels=top_5_countries.values)\n",
    "plt.show();"
   ]
  },
  {
   "cell_type": "code",
   "execution_count": 19,
   "metadata": {},
   "outputs": [
    {
     "data": {
      "text/plain": [
       "CountryLive\n",
       "United States of America    45.31\n",
       "India                        8.14\n",
       "United Kingdom               4.61\n",
       "Canada                       3.89\n",
       "Germany                      1.89\n",
       "Name: proportion, dtype: float64"
      ]
     },
     "execution_count": 19,
     "metadata": {},
     "output_type": "execute_result"
    }
   ],
   "source": [
    "top_5_countries"
   ]
  },
  {
   "cell_type": "markdown",
   "metadata": {},
   "source": [
    "Our analysis reveals that the U.S. exhibits the highest density of new coders, comprising 45% of the total population. India follows with 8.14%, and the United Kingdom ranks third with 4.61%. At this point, we'll drop Germany as a consideration for the best market option and only look at the top 4 countries by new coders density."
   ]
  },
  {
   "cell_type": "markdown",
   "metadata": {},
   "source": [
    "### Narrowing Down to Main Courses of Interest:\n",
    "\n",
    "To further refine our analysis, we delve into the countries with the highest concentration of coders interested in web development, mobile development, and data science. Leveraging the main_interests_bool variable previously utilized to assess sample representativity, we'll examine the distribution of coder interests across these key areas. By focusing on these primary courses, we aim to pinpoint geographical regions with significant interest in our core offerings, paving the way for targeted marketing strategies."
   ]
  },
  {
   "cell_type": "code",
   "execution_count": 20,
   "metadata": {},
   "outputs": [
    {
     "data": {
      "text/plain": [
       "CountryLive\n",
       "United States of America    45.05\n",
       "India                        8.05\n",
       "United Kingdom               4.73\n",
       "Canada                       3.88\n",
       "Name: proportion, dtype: float64"
      ]
     },
     "execution_count": 20,
     "metadata": {},
     "output_type": "execute_result"
    }
   ],
   "source": [
    "# Filter the dataset to focus on respondents interested in the main courses offered\n",
    "main_interests_bool = survey_responses['JobRoleInterest'].str.lower().str.contains('web developer|mobile developer|data scientist')\n",
    "\n",
    "# Calculate the distribution of these respondents by the top 4 countries.\n",
    "top_countries_main_interests = round(survey_responses.loc[main_interests_bool, 'CountryLive'].value_counts(normalize=True) * 100, 2)[:4]\n",
    "\n",
    "top_countries_main_interests"
   ]
  },
  {
   "cell_type": "code",
   "execution_count": 21,
   "metadata": {},
   "outputs": [
    {
     "data": {
      "image/png": "[encoded data removed]",
      "text/plain": [
       "<Figure size 640x480 with 1 Axes>"
      ]
     },
     "metadata": {},
     "output_type": "display_data"
    }
   ],
   "source": [
    "# Plotting the bar chart for overall population density\n",
    "overall_population = top_5_countries\n",
    "overall_plot = overall_population.plot.bar(edgecolor='black', color='blue', align='center', width=0.4, label='Overall Population', rot=0)\n",
    "\n",
    "# Plotting the bar chart for main interests population density\n",
    "main_interests_population = top_countries_main_interests\n",
    "main_interests_plot = main_interests_population.plot.bar(edgecolor='black', color='orange', align='edge', width=0.4, label='Main Interests Population', rot=0)\n",
    "\n",
    "plt.xlabel('Country')\n",
    "plt.ylabel('Population Density (%)')\n",
    "plt.yticks(range(0, 101, 10))\n",
    "plt.xticks([0, 1, 2, 3], ['U.S.', 'India', 'U.K.', 'Canada'])\n",
    "plt.legend()\n",
    "plt.show();\n"
   ]
  },
  {
   "cell_type": "markdown",
   "metadata": {},
   "source": [
    "Thus, the population density among coders interested in any topics versus those interested in our main course offerings is remarkably similar. This alignment is expected, considering that coders interested in one or more of our main courses constitute 91% of the total responses."
   ]
  },
  {
   "cell_type": "markdown",
   "metadata": {},
   "source": [
    "### Willingness to Spend on Learning\n",
    "\n",
    "To further our analysis, we will examine the amount of money new coders are willing to spend on learning. Understanding this will help us avoid advertising in markets where most people prefer free resources, which is unlikely to be profitable for us.\n",
    "\n",
    "The MoneyForLearning column captures the amount of money participants have spent on learning from when they started coding until they completed the survey. Given that our company sells subscriptions at $59 per month, it's crucial to understand how much each student is willing to spend per month.\n",
    "\n",
    "Additionally, it makes sense to focus our analysis on four countries: the US, India, the United Kingdom, and Canada. This decision is based on two factors:\n",
    "\n",
    "* These countries have the highest absolute frequencies in our sample, ensuring we have a substantial amount of data for each.\n",
    "* Our courses are in English, and English is an official language in all four countries. The higher the number of English speakers, the better our chances of effectively targeting the right audience with our ads.\n",
    "\n",
    "By narrowing our analysis to these key markets, we can better tailor our marketing strategies to the financial behaviors and preferences of potential customers."
   ]
  },
  {
   "cell_type": "code",
   "execution_count": 68,
   "metadata": {},
   "outputs": [
    {
     "data": {
      "text/plain": [
       "SpentPerMonth\n",
       "0.0         42.47%\n",
       "NaN         14.14%\n",
       "8.0          1.79%\n",
       "50.0         1.77%\n",
       "100.0        1.68%\n",
       "            ...   \n",
       "3167.0       0.01%\n",
       "240.0        0.01%\n",
       "10833.0      0.01%\n",
       "8667.0       0.01%\n",
       "2600.0       0.01%\n",
       "Name: proportion, Length: 298, dtype: object"
      ]
     },
     "execution_count": 68,
     "metadata": {},
     "output_type": "execute_result"
    }
   ],
   "source": [
    "# Create a copy of the survey_responses DataFrame to avoid modifying the original data\n",
    "learning_one_plus_month = survey_responses.copy()\n",
    "\n",
    "# Replace any zero values in 'MonthsProgramming' with one to avoid division by zero errors\n",
    "learning_one_plus_month['MonthsProgramming'] = learning_one_plus_month['MonthsProgramming'].replace(0, 1)\n",
    "\n",
    "# Calculate the amount spent per month\n",
    "learning_one_plus_month['SpentPerMonth'] = round(learning_one_plus_month['MoneyForLearning'] / learning_one_plus_month['MonthsProgramming'])\n",
    "\n",
    "# Display the frequency distribution of the 'SpentPerMonth' column applying format and rounding\n",
    "frequency_spending = (learning_one_plus_month['SpentPerMonth'].value_counts(dropna=False, normalize=True) * 100).apply(lambda x: f\"{x: .2f}%\")\n",
    "\n",
    "frequency_spending\n"
   ]
  },
  {
   "cell_type": "markdown",
   "metadata": {},
   "source": [
    "There are a significant number (14.14%) of NaN values present, which we'll remove to ensure our analysis is based on complete data. Additionally, we'll focus on data from the four countries with the most new coders: the US, India, the United Kingdom, and Canada."
   ]
  },
  {
   "cell_type": "code",
   "execution_count": 95,
   "metadata": {},
   "outputs": [
    {
     "data": {
      "text/plain": [
       "(0, 58]         1430\n",
       "(58, 116]        288\n",
       "(116, 174]       133\n",
       "(174, 232]        71\n",
       "(232, 290]        55\n",
       "(290, 348]        47\n",
       "(464, 522]        40\n",
       "(348, 406]        31\n",
       "(406, 464]        23\n",
       "(580, 638]        23\n",
       "(986, 1044]       22\n",
       "(638, 696]        21\n",
       "(1624, 1682]      18\n",
       "(812, 870]        18\n",
       "(1972, 2030]      15\n",
       "(1450, 1508]      12\n",
       "(1218, 1276]      12\n",
       "(2494, 2552]       9\n",
       "(696, 754]         7\n",
       "(754, 812]         7\n",
       "(1276, 1334]       6\n",
       "(1160, 1218]       6\n",
       "(928, 986]         6\n",
       "(870, 928]         6\n",
       "(2320, 2378]       6\n",
       "(1392, 1450]       6\n",
       "(1044, 1102]       4\n",
       "(522, 580]         3\n",
       "(1740, 1798]       3\n",
       "(1102, 1160]       3\n",
       "(2204, 2262]       3\n",
       "(1566, 1624]       2\n",
       "(2378, 2436]       2\n",
       "(2146, 2204]       2\n",
       "(2030, 2088]       2\n",
       "(1798, 1856]       2\n",
       "(1682, 1740]       1\n",
       "(1508, 1566]       0\n",
       "(2088, 2146]       0\n",
       "(1914, 1972]       0\n",
       "(1856, 1914]       0\n",
       "(2262, 2320]       0\n",
       "(1334, 1392]       0\n",
       "(2436, 2494]       0\n",
       "Name: count, dtype: int64"
      ]
     },
     "execution_count": 95,
     "metadata": {},
     "output_type": "execute_result"
    }
   ],
   "source": [
    "# Create a boolean mask for rows where 'CountryLive' contains one of the four countries of interest\n",
    "countries_bool = learning_one_plus_month['CountryLive'].str.contains('India|United States of America|Canada|United Kingdom')\n",
    "\n",
    "# Filter the DataFrame to include only rows with non-null 'SpentPerMonth' values and matching countries\n",
    "learning_one_plus_month = learning_one_plus_month[learning_one_plus_month['SpentPerMonth'].notnull() & countries_bool]\n",
    "\n",
    "# Display the frequency distribution of the 'SpentPerMonth' column after filtering\n",
    "intervals = pd.interval_range(start=0, end=2600, freq=58)\n",
    "learning_one_plus_month['SpentPerMonth'].value_counts(dropna=False, bins=intervals)"
   ]
  },
  {
   "cell_type": "code",
   "execution_count": 72,
   "metadata": {},
   "outputs": [
    {
     "data": {
      "image/png": "[encoded data removed]",
      "text/plain": [
       "<Figure size 640x480 with 1 Axes>"
      ]
     },
     "metadata": {},
     "output_type": "display_data"
    }
   ],
   "source": [
    "subs_willingness = (learning_one_plus_month['SpentPerMonth'] >= 59)\n",
    "\n",
    "subs_willingness.value_counts().plot.bar(rot=0);"
   ]
  },
  {
   "cell_type": "code",
   "execution_count": 73,
   "metadata": {},
   "outputs": [
    {
     "data": {
      "text/html": [
       "<div>\n",
       "<style scoped>\n",
       "    .dataframe tbody tr th:only-of-type {\n",
       "        vertical-align: middle;\n",
       "    }\n",
       "\n",
       "    .dataframe tbody tr th {\n",
       "        vertical-align: top;\n",
       "    }\n",
       "\n",
       "    .dataframe thead th {\n",
       "        text-align: right;\n",
       "    }\n",
       "</style>\n",
       "<table border=\"1\" class=\"dataframe\">\n",
       "  <thead>\n",
       "    <tr style=\"text-align: right;\">\n",
       "      <th></th>\n",
       "      <th>SpentPerMonth</th>\n",
       "    </tr>\n",
       "    <tr>\n",
       "      <th>CountryLive</th>\n",
       "      <th></th>\n",
       "    </tr>\n",
       "  </thead>\n",
       "  <tbody>\n",
       "    <tr>\n",
       "      <th>United States of America</th>\n",
       "      <td>216.863086</td>\n",
       "    </tr>\n",
       "    <tr>\n",
       "      <th>Canada</th>\n",
       "      <td>126.474048</td>\n",
       "    </tr>\n",
       "    <tr>\n",
       "      <th>India</th>\n",
       "      <td>120.350877</td>\n",
       "    </tr>\n",
       "    <tr>\n",
       "      <th>United Kingdom</th>\n",
       "      <td>66.563636</td>\n",
       "    </tr>\n",
       "  </tbody>\n",
       "</table>\n",
       "</div>"
      ],
      "text/plain": [
       "                          SpentPerMonth\n",
       "CountryLive                            \n",
       "United States of America     216.863086\n",
       "Canada                       126.474048\n",
       "India                        120.350877\n",
       "United Kingdom                66.563636"
      ]
     },
     "execution_count": 73,
     "metadata": {},
     "output_type": "execute_result"
    }
   ],
   "source": [
    "# Group by country\n",
    "country_avergae_spending = learning_one_plus_month.pivot_table(values='SpentPerMonth', index='CountryLive', aggfunc='mean')\n",
    "\n",
    "country_avergae_spending.sort_values(by='SpentPerMonth', ascending=False)\n",
    "\n"
   ]
  },
  {
   "cell_type": "markdown",
   "metadata": {},
   "source": [
    "Among the four English-speaking countries where most of the participants reside in, the U.S. coders have the hightest amount willing to spend on learning, followed by Canada and India ranking second and third. Why U.K is so low? Outliers?\n",
    "\n",
    " The results for the United Kingdom and Canada are surprisingly low relative to the \n",
    "values we see for India. If we considered a few socio-economical metrics \n",
    "(like \n",
    "GDP per capita), we'd intuitively expect people in the UK and Canada to \n",
    "spend more on learning than people in India.\n",
    " It might be that we don't have have enough representative data for the United \n",
    "Kingdom, Canada, and India, or we have some outliers (maybe coming from \n",
    "wrong survey answers) making the mean too big for India, or too low for the UK \n",
    "and Canada. Or it might be that the results are correct"
   ]
  },
  {
   "cell_type": "markdown",
   "metadata": {},
   "source": [
    "### Determining the Presence of Outliers\n",
    "\n",
    "We'll generate a `boxplot` for each of the four country to compare the distribution of money spent on learning. This will allow us to spot outliers that may potentially be affecting the average.\n"
   ]
  },
  {
   "cell_type": "code",
   "execution_count": null,
   "metadata": {},
   "outputs": [],
   "source": [
    "import seaborn as sns\n",
    "\n",
    "# Generate a boxplot for distribution comparision\n",
    "sns.boxplot(data=learning_one_plus_month, x='CountryLive', y='SpentPerMonth')\n",
    "plt.title('Distribution Comparision between Money Spent Per Month')\n",
    "\n",
    "plt.show();# Try the themes and customizations for graphs?"
   ]
  },
  {
   "cell_type": "markdown",
   "metadata": {},
   "source": [
    "It is quite difficult to adjurn whether anything is wrong with the data for U.K, Canada, and India. However, we can see that there are two extreme number in the data for the U.S. Although, we don't know if this is an outlier for sure, it seems quite unlikely. Also, this is not the majority of the bulk of distribution. Since, our focus is converting as many coders as possible to our product, we'll ignore these tw values."
   ]
  },
  {
   "cell_type": "code",
   "execution_count": null,
   "metadata": {},
   "outputs": [],
   "source": [
    "# Get rid of potential outlier\n",
    "learning_one_plus_month = learning_one_plus_month[learning_one_plus_month['SpentPerMonth'] < 20000]\n",
    "\n",
    "country_avergae_spending = learning_one_plus_month.pivot_table(values='SpentPerMonth', index='CountryLive', aggfunc='mean')\n",
    "\n",
    "country_avergae_spending.sort_values(by='SpentPerMonth', ascending=False)"
   ]
  },
  {
   "cell_type": "markdown",
   "metadata": {},
   "source": [
    "Mean still looks off. We'll continue to investigate for extreme outliers."
   ]
  },
  {
   "cell_type": "code",
   "execution_count": null,
   "metadata": {},
   "outputs": [],
   "source": [
    "# Plot a barplot\n",
    "\n",
    "sns.boxplot(data=learning_one_plus_month, x='CountryLive', y='SpentPerMonth')\n",
    "\n",
    "plt.show();"
   ]
  },
  {
   "cell_type": "markdown",
   "metadata": {},
   "source": [
    "Potential outliers in India: Values above 2500. There could be other factors involved such as attending bootcamps, which are relatively expensive, or months learning, and number of learning resources."
   ]
  },
  {
   "cell_type": "markdown",
   "metadata": {},
   "source": [
    "### Investigate Outliers Factors"
   ]
  },
  {
   "cell_type": "code",
   "execution_count": null,
   "metadata": {},
   "outputs": [],
   "source": [
    "# Isolate the outliers in India\n",
    "\n",
    "india_outliers_bool = (learning_one_plus_month['CountryLive'] == 'India') & (learning_one_plus_month['SpentPerMonth'] >= 2500)\n",
    "\n",
    "india_outliers = learning_one_plus_month[india_outliers_bool]\n",
    "\n",
    "india_outliers[['SpentPerMonth', 'MoneyForLearning', 'MonthsProgramming', 'LearningResources', 'AttendedBootcamp', 'BootcampAttended']]"
   ]
  },
  {
   "cell_type": "markdown",
   "metadata": {},
   "source": [
    "None attended any bootcamps. The coder who spent the highest 100000.0 has been coding for more months, but that doesn;t mean any one coding more necessarily is willing to spend more."
   ]
  },
  {
   "cell_type": "code",
   "execution_count": null,
   "metadata": {},
   "outputs": [],
   "source": [
    "learning_one_plus_month.plot.scatter(y='MonthsProgramming', x='SpentPerMonth')\n",
    "\n",
    "plt.show();\n",
    "\n",
    "learning_one_plus_month['MonthsProgramming'].corr(learning_one_plus_month['SpentPerMonth'])"
   ]
  },
  {
   "cell_type": "code",
   "execution_count": null,
   "metadata": {},
   "outputs": [],
   "source": [
    "# Count of learning resources consulted\n",
    "learning_res = india_outliers['LearningResources'].str.split(',').str.len()\n",
    "\n",
    "money_spent = india_outliers['SpentPerMonth']\n",
    "\n",
    "pd.DataFrame(data={'Money Spent Per Month': money_spent, 'Resources Used': learning_res}\n",
    "             )\n",
    "\n",
    "\n",
    "# india_outliers['SpentPerMonth'].corr(india_outliers['learning_res'])"
   ]
  },
  {
   "cell_type": "code",
   "execution_count": null,
   "metadata": {},
   "outputs": [],
   "source": [
    "# Remove them\n",
    "learning_one_plus_month = learning_one_plus_month[~india_outliers_bool]\n",
    "\n",
    "# Create a function since this is used a lot\n",
    "country_avergae_spending = learning_one_plus_month.pivot_table(values='SpentPerMonth', index='CountryLive', aggfunc='mean')\n",
    "\n",
    "country_avergae_spending.sort_values(by='SpentPerMonth', ascending=False)\n",
    "\n"
   ]
  },
  {
   "cell_type": "markdown",
   "metadata": {},
   "source": [
    "Looking back at the box plot above, we can also see more extreme outliers for the US (values over $6000 per month). Let's examine these participants in more detail."
   ]
  },
  {
   "cell_type": "code",
   "execution_count": null,
   "metadata": {},
   "outputs": [],
   "source": [
    "us_outliers_bool = (learning_one_plus_month['CountryLive'] == 'United States of America') & (learning_one_plus_month['SpentPerMonth'] >= 6000)\n",
    "\n",
    "us_outliers = learning_one_plus_month[us_outliers_bool]\n",
    "\n",
    "us_outliers[['SpentPerMonth', 'MoneyForLearning', 'MonthsProgramming', 'LearningResources', 'AttendedBootcamp', 'BootcampAttended']]"
   ]
  },
  {
   "cell_type": "code",
   "execution_count": null,
   "metadata": {},
   "outputs": [],
   "source": [
    "# Remove us outliers\n",
    "outliers_to_remove = (us_outliers_bool) & (learning_one_plus_month['AttendedBootcamp'] == 'No')\n",
    "\n",
    "learning_one_plus_month = learning_one_plus_month[~outliers_to_remove]\n",
    "\n",
    "country_avergae_spending = learning_one_plus_month.pivot_table(values='SpentPerMonth', index='CountryLive', aggfunc='mean')\n",
    "\n",
    "country_avergae_spending.sort_values(by='SpentPerMonth', ascending=False)"
   ]
  },
  {
   "cell_type": "markdown",
   "metadata": {},
   "source": [
    "Canada:"
   ]
  },
  {
   "cell_type": "code",
   "execution_count": null,
   "metadata": {},
   "outputs": [],
   "source": [
    "canada_outliers_bool = (learning_one_plus_month['CountryLive'] == 'Canada') & (learning_one_plus_month['SpentPerMonth'] >= 3500)\n",
    "\n",
    "canada_outliers = learning_one_plus_month[canada_outliers_bool]\n",
    "\n",
    "canada_outliers[['SpentPerMonth', 'MoneyForLearning', 'MonthsProgramming', 'LearningResources', 'AttendedBootcamp', 'BootcampAttended']]"
   ]
  },
  {
   "cell_type": "markdown",
   "metadata": {},
   "source": [
    "Won't remove."
   ]
  },
  {
   "cell_type": "markdown",
   "metadata": {},
   "source": [
    "### Finding 2nd Best Market to Advertise in\n",
    "\n",
    "Definately U.S. because of the number of new coders and therefore potential customers and the amount they are willing to pay.\n",
    "\n",
    "Another market - Consider # of potential customers in other countries. We have almost twice as more potential customers in India than we have in Canada:"
   ]
  },
  {
   "cell_type": "code",
   "execution_count": null,
   "metadata": {},
   "outputs": [],
   "source": [
    "learning_one_plus_month['CountryLive'].value_counts(normalize=True) * 100"
   ]
  },
  {
   "cell_type": "markdown",
   "metadata": {},
   "source": [
    "One average, coders in India are willing to pay more that the company's monthly susbcription of $59 and they make up 12% of the customer base compared to the top 4. \n",
    "So it's not crystal clear what to choose between Canada and India. Although it seems more tempting to choose Canada, there are good chances that India might actually be a better choice because of the large number of potential customers.\n",
    "\n",
    "The data suggests strongly that we shouldn't advertise in the UK (both lower customers and lower spent).\n",
    "\n",
    "Canada (high spending will) is suprisinging has low number of coders (only 6%) and is lowest among the 4 country. Maybe doesn't make sense to advertise here"
   ]
  },
  {
   "cell_type": "code",
   "execution_count": null,
   "metadata": {},
   "outputs": [],
   "source": [
    "# Makes sens to split unequally - weighted\n",
    "top_three_choices = learning_one_plus_month.loc[(learning_one_plus_month['CountryLive'] == 'Canada') | (learning_one_plus_month['CountryLive'] == 'India') | (learning_one_plus_month['CountryLive'] == 'United States of America'),'CountryLive'].value_counts(normalize=True)*100\n",
    "\n",
    "top_three_choices.plot.pie()\n",
    "\n",
    "top_three_choices"
   ]
  },
  {
   "cell_type": "code",
   "execution_count": null,
   "metadata": {},
   "outputs": [],
   "source": [
    "top_three_choices = learning_one_plus_month[(learning_one_plus_month['CountryLive'] == 'Canada') | (learning_one_plus_month['CountryLive'] == 'India') | (learning_one_plus_month['CountryLive'] == 'United States of America')]\n",
    "\n",
    "top_three_choices['CountryLive'].value_counts()"
   ]
  },
  {
   "cell_type": "markdown",
   "metadata": {},
   "source": [
    "84% in Us and 14% in india?"
   ]
  },
  {
   "cell_type": "markdown",
   "metadata": {},
   "source": [
    "Within the country choosen, identify the following for targetted advertisements:\n",
    "\n",
    "Demographics based advertisement: gender, age, language spoken (narrow search by?), student vs full-time workers schedule based/self-paced."
   ]
  },
  {
   "cell_type": "markdown",
   "metadata": {},
   "source": [
    "## Targetted Advertisement based on Country Demographics\n",
    "\n",
    "- Age\n",
    "- Gender\n",
    "- Student vs Full-time"
   ]
  },
  {
   "cell_type": "code",
   "execution_count": null,
   "metadata": {},
   "outputs": [],
   "source": [
    "# Age\n",
    "top_three_choices['Age'].value_counts(bins=5)[:3]"
   ]
  },
  {
   "cell_type": "code",
   "execution_count": null,
   "metadata": {},
   "outputs": [],
   "source": [
    "intervals = pd.interval_range(start=15, end=60, freq=5)\n",
    "spending_will = top_three_choices['SpentPerMonth'] >= 59\n",
    "\n",
    "top_three_choices.loc[spending_will, 'Age'].value_counts(bins=intervals)"
   ]
  },
  {
   "cell_type": "code",
   "execution_count": null,
   "metadata": {},
   "outputs": [],
   "source": [
    "# Gender\n",
    "top_three_choices['Gender'].value_counts(normalize=True) * 100"
   ]
  },
  {
   "cell_type": "code",
   "execution_count": null,
   "metadata": {},
   "outputs": [],
   "source": [
    "top_three_choices.loc[spending_will, 'Gender'].value_counts(normalize=True)[:2] * 100"
   ]
  },
  {
   "cell_type": "code",
   "execution_count": null,
   "metadata": {},
   "outputs": [],
   "source": [
    "# Employment\n",
    "top_three_choices.loc[spending_will, 'EmploymentStatus'].value_counts(normalize=True)[:2] * 100\n"
   ]
  },
  {
   "cell_type": "code",
   "execution_count": null,
   "metadata": {},
   "outputs": [],
   "source": [
    "top_three_choices.loc[spending_will, 'JobField'].value_counts(normalize=True)[:1] * 100\n"
   ]
  },
  {
   "cell_type": "markdown",
   "metadata": {},
   "source": [
    "Probably focus on advanced concepts rather than basics."
   ]
  }
 ],
 "metadata": {
  "kernelspec": {
   "display_name": "Python 3",
   "language": "python",
   "name": "python3"
  },
  "language_info": {
   "codemirror_mode": {
    "name": "ipython",
    "version": 3
   },
   "file_extension": ".py",
   "mimetype": "text/x-python",
   "name": "python",
   "nbconvert_exporter": "python",
   "pygments_lexer": "ipython3",
   "version": "3.9.2"
  }
 },
 "nbformat": 4,
 "nbformat_minor": 2
}

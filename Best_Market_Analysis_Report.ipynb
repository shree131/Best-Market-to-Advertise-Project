{
 "cells": [
  {
   "cell_type": "markdown",
   "metadata": {},
   "source": [
    "# Investigating the Best Market/Strategy to Advertise in\n",
    "\n",
    "In this project, we are analyzing the best market to invest in for our e-learning client company that specialize in online courses in web and mobile development among others. THe company would like to promote their product and invest some money in finding the Best Markets to Advertise In advertisement. Our goal in this project is to find out the two best markets to advertise our product in.\n",
    "\n",
    "Some questions we would like to answer throughout the analysis:\n",
    "-\tWhat is the best market to invest in advertisement of products (courses)?\n",
    "-\tBest value? Most cost-effective? Best in terms of success-rate?\n",
    "\n",
    "-\tAllows the company to strategically invest their resources in a advertisement that yields successful customer attraction and retention.\n",
    "-\tAllows to get more # of customers and get valuable customers.\n"
   ]
  },
  {
   "cell_type": "markdown",
   "metadata": {},
   "source": [
    "## Finding Potential Data that Could Serve Our Goal\n",
    "One possible way to collect relevant data is to organize our own survey. However, this process could be expensive and time consuming and because the clients need the analysis soon for their launch, we explored other options.\n",
    "\n",
    "One interesting dataset we came across was a survey posted by a similar e-learning company: FreeCodeCamp. With medium publications having 40.000 followers, their surveys managed to attract quite a lot (20,282 responses) of new coders (< 5 yrs). Glimpse into how people are learning to code.The entire dataset of participants’ individual responses to all 48/16? questions. Goal was to understand these people's motivations in learning to code, how they're learning to code, their demographics, and their socioeconomic background. Read more on their [website](https://www.freecodecamp.org/news/we-asked-15-000-people-who-they-are-and-how-theyre-learning-to-code-4104e29b2781#.5mxwnyk80).\n",
    "\n",
    "These dataset can be downloaded at the [public GitHub](https://github.com/freeCodeCamp/2017-new-coder-survey/tree/master?tab=readme-ov-file). \n",
    "\n",
    "For this project, we'll be working with the raw data by merging the following datasets together and prepping the data for analysis:\n",
    "1. **2017-new-coder-survey-part-1.csv** - the first half of the survey. 100% of respondants completed this section.\n",
    "2. **2017-new-coder-survey-part-2.csv** - the first half of the survey, plus the second half - which about 95% of respondants also completed.\n",
    "\n",
    "We'll look at the 2nd dataset with both part one and part 2 of survey data (completely by heaping 95%)."
   ]
  },
  {
   "cell_type": "code",
   "execution_count": 1,
   "metadata": {},
   "outputs": [],
   "source": [
    "# Config option to print all interactive output in a cell\n",
    "from IPython.core.interactiveshell import InteractiveShell\n",
    "\n",
    "InteractiveShell.ast_node_interactivity = \"all\""
   ]
  },
  {
   "cell_type": "markdown",
   "metadata": {},
   "source": [
    "### Revisiting the Goal with Specificity\n",
    "\n",
    "For the purpose of our analysis, we want to answer questions \n",
    "about a population of new coders that are interested in the subjects we teach. \n",
    "We'd like to ideally identify the potential customers based on ()in order to maximize the conversion rate and determine the best staregies to advertise in:\n",
    "* Where are these new coders located.\n",
    "* How much money new coders are willing to spend on learning.\n",
    "* Potential interest in the products the client sells.\n",
    "\n",
    "Based on the documentation, the survey consists of 100+ columns and xxx+ entries. Rather than loading all the dataset, we'll only load the columns most relevant to our research in terms of answering our research question and providing value.\n",
    "\n",
    "The columns we're most interested are the ones that answer:\n",
    "- Coder's location\n",
    "- Coder's spending capacity\n",
    "- Coder's willingness to spend on learning\n",
    "- Topics and Areas of interest and wehtehr it aligns witht he product the client offers\n",
    "- Learning Habits\n",
    "\n",
    "Based on the documentation, we've identified such columns and will be loading the same from each dataset."
   ]
  },
  {
   "cell_type": "code",
   "execution_count": 2,
   "metadata": {},
   "outputs": [
    {
     "data": {
      "text/html": [
       "<div>\n",
       "<style scoped>\n",
       "    .dataframe tbody tr th:only-of-type {\n",
       "        vertical-align: middle;\n",
       "    }\n",
       "\n",
       "    .dataframe tbody tr th {\n",
       "        vertical-align: top;\n",
       "    }\n",
       "\n",
       "    .dataframe thead th {\n",
       "        text-align: right;\n",
       "    }\n",
       "</style>\n",
       "<table border=\"1\" class=\"dataframe\">\n",
       "  <thead>\n",
       "    <tr style=\"text-align: right;\">\n",
       "      <th></th>\n",
       "      <th>#</th>\n",
       "      <th>How old are you?</th>\n",
       "      <th>What's your gender?</th>\n",
       "      <th>Which country are you a citizen of?</th>\n",
       "      <th>Which country do you currently live in?</th>\n",
       "      <th>About how many people live in your city?</th>\n",
       "      <th>Which language do you you speak at home with your family?</th>\n",
       "      <th>About how much money did you make last year (in US dollars)?</th>\n",
       "      <th>jobs_interested_in</th>\n",
       "      <th>expected_earnings</th>\n",
       "      <th>months_learning</th>\n",
       "      <th>total_spent_learning</th>\n",
       "    </tr>\n",
       "  </thead>\n",
       "  <tbody>\n",
       "    <tr>\n",
       "      <th>0</th>\n",
       "      <td>21db37adb60cdcafadfa7dca1b13b6b1</td>\n",
       "      <td>34</td>\n",
       "      <td>male</td>\n",
       "      <td>United States of America</td>\n",
       "      <td>United States of America</td>\n",
       "      <td>less than 100,000</td>\n",
       "      <td>English</td>\n",
       "      <td>NaN</td>\n",
       "      <td>Full-Stack Web Developer</td>\n",
       "      <td>35000</td>\n",
       "      <td>6</td>\n",
       "      <td>80</td>\n",
       "    </tr>\n",
       "    <tr>\n",
       "      <th>1</th>\n",
       "      <td>e0b92236ac53b58f079231e014748dc3</td>\n",
       "      <td>26</td>\n",
       "      <td>male</td>\n",
       "      <td>Brazil</td>\n",
       "      <td>Brazil</td>\n",
       "      <td>more than 1 million</td>\n",
       "      <td>Portuguese</td>\n",
       "      <td>15000</td>\n",
       "      <td>NaN</td>\n",
       "      <td>NaN</td>\n",
       "      <td>48</td>\n",
       "      <td>0</td>\n",
       "    </tr>\n",
       "    <tr>\n",
       "      <th>2</th>\n",
       "      <td>21ba173828fbe9e27ccebaf4d5166a55</td>\n",
       "      <td>21</td>\n",
       "      <td>male</td>\n",
       "      <td>United States of America</td>\n",
       "      <td>United States of America</td>\n",
       "      <td>more than 1 million</td>\n",
       "      <td>Spanish</td>\n",
       "      <td>13000</td>\n",
       "      <td>Front-End Web Developer, Back-End Web Develo...</td>\n",
       "      <td>70000</td>\n",
       "      <td>5</td>\n",
       "      <td>1000</td>\n",
       "    </tr>\n",
       "  </tbody>\n",
       "</table>\n",
       "</div>"
      ],
      "text/plain": [
       "                                  # How old are you? What's your gender?  \\\n",
       "0  21db37adb60cdcafadfa7dca1b13b6b1               34                male   \n",
       "1  e0b92236ac53b58f079231e014748dc3               26                male   \n",
       "2  21ba173828fbe9e27ccebaf4d5166a55               21                male   \n",
       "\n",
       "  Which country are you a citizen of? Which country do you currently live in?  \\\n",
       "0            United States of America                United States of America   \n",
       "1                              Brazil                                  Brazil   \n",
       "2            United States of America                United States of America   \n",
       "\n",
       "  About how many people live in your city?  \\\n",
       "0                        less than 100,000   \n",
       "1                      more than 1 million   \n",
       "2                      more than 1 million   \n",
       "\n",
       "  Which language do you you speak at home with your family?  \\\n",
       "0                                            English          \n",
       "1                                         Portuguese          \n",
       "2                                            Spanish          \n",
       "\n",
       "  About how much money did you make last year (in US dollars)?  \\\n",
       "0                                                NaN             \n",
       "1                                              15000             \n",
       "2                                              13000             \n",
       "\n",
       "                                  jobs_interested_in expected_earnings  \\\n",
       "0                           Full-Stack Web Developer             35000   \n",
       "1                                                NaN               NaN   \n",
       "2    Front-End Web Developer, Back-End Web Develo...             70000   \n",
       "\n",
       "  months_learning total_spent_learning  \n",
       "0               6                   80  \n",
       "1              48                    0  \n",
       "2               5                 1000  "
      ]
     },
     "execution_count": 2,
     "metadata": {},
     "output_type": "execute_result"
    },
    {
     "data": {
      "text/html": [
       "<div>\n",
       "<style scoped>\n",
       "    .dataframe tbody tr th:only-of-type {\n",
       "        vertical-align: middle;\n",
       "    }\n",
       "\n",
       "    .dataframe tbody tr th {\n",
       "        vertical-align: top;\n",
       "    }\n",
       "\n",
       "    .dataframe thead th {\n",
       "        text-align: right;\n",
       "    }\n",
       "</style>\n",
       "<table border=\"1\" class=\"dataframe\">\n",
       "  <thead>\n",
       "    <tr style=\"text-align: right;\">\n",
       "      <th></th>\n",
       "      <th>#</th>\n",
       "      <th>How old are you?</th>\n",
       "      <th>What's your gender?</th>\n",
       "      <th>Which country are you a citizen of?</th>\n",
       "      <th>Which country do you currently live in?</th>\n",
       "      <th>About how many people live in your city?</th>\n",
       "      <th>Which language do you you speak at home with your family?</th>\n",
       "      <th>About how much money did you make last year (in US dollars)?</th>\n",
       "      <th>jobs_interested_in</th>\n",
       "      <th>expected_earnings</th>\n",
       "      <th>months_learning</th>\n",
       "      <th>total_spent_learning</th>\n",
       "    </tr>\n",
       "  </thead>\n",
       "  <tbody>\n",
       "    <tr>\n",
       "      <th>18884</th>\n",
       "      <td>c0d0b88bc2b76087232bfa0327457b04</td>\n",
       "      <td>24</td>\n",
       "      <td>female</td>\n",
       "      <td>India</td>\n",
       "      <td>India</td>\n",
       "      <td>between 100,000 and 1 million</td>\n",
       "      <td>Malayalam</td>\n",
       "      <td>NaN</td>\n",
       "      <td>NaN</td>\n",
       "      <td>NaN</td>\n",
       "      <td>23</td>\n",
       "      <td>0</td>\n",
       "    </tr>\n",
       "    <tr>\n",
       "      <th>18885</th>\n",
       "      <td>52c24e8c43bb044e1b3e1df39a5c4b9b</td>\n",
       "      <td>21</td>\n",
       "      <td>male</td>\n",
       "      <td>Italy</td>\n",
       "      <td>Italy</td>\n",
       "      <td>between 100,000 and 1 million</td>\n",
       "      <td>Italian</td>\n",
       "      <td>NaN</td>\n",
       "      <td>User Experience Designer,   Data Scientist, ...</td>\n",
       "      <td>20000</td>\n",
       "      <td>18</td>\n",
       "      <td>0</td>\n",
       "    </tr>\n",
       "    <tr>\n",
       "      <th>18886</th>\n",
       "      <td>7b6a092fef05254d9d6c7ba565e8d3f0</td>\n",
       "      <td>NaN</td>\n",
       "      <td>male</td>\n",
       "      <td>Ghana</td>\n",
       "      <td>Ghana</td>\n",
       "      <td>less than 100,000</td>\n",
       "      <td>English</td>\n",
       "      <td>NaN</td>\n",
       "      <td>NaN</td>\n",
       "      <td>NaN</td>\n",
       "      <td>24</td>\n",
       "      <td>0</td>\n",
       "    </tr>\n",
       "  </tbody>\n",
       "</table>\n",
       "</div>"
      ],
      "text/plain": [
       "                                      # How old are you? What's your gender?  \\\n",
       "18884  c0d0b88bc2b76087232bfa0327457b04               24              female   \n",
       "18885  52c24e8c43bb044e1b3e1df39a5c4b9b               21                male   \n",
       "18886  7b6a092fef05254d9d6c7ba565e8d3f0              NaN                male   \n",
       "\n",
       "      Which country are you a citizen of?  \\\n",
       "18884                               India   \n",
       "18885                               Italy   \n",
       "18886                               Ghana   \n",
       "\n",
       "      Which country do you currently live in?  \\\n",
       "18884                                   India   \n",
       "18885                                   Italy   \n",
       "18886                                   Ghana   \n",
       "\n",
       "      About how many people live in your city?  \\\n",
       "18884            between 100,000 and 1 million   \n",
       "18885            between 100,000 and 1 million   \n",
       "18886                        less than 100,000   \n",
       "\n",
       "      Which language do you you speak at home with your family?  \\\n",
       "18884                                          Malayalam          \n",
       "18885                                            Italian          \n",
       "18886                                            English          \n",
       "\n",
       "      About how much money did you make last year (in US dollars)?  \\\n",
       "18884                                                NaN             \n",
       "18885                                                NaN             \n",
       "18886                                                NaN             \n",
       "\n",
       "                                      jobs_interested_in expected_earnings  \\\n",
       "18884                                                NaN               NaN   \n",
       "18885    User Experience Designer,   Data Scientist, ...             20000   \n",
       "18886                                                NaN               NaN   \n",
       "\n",
       "      months_learning total_spent_learning  \n",
       "18884              23                    0  \n",
       "18885              18                    0  \n",
       "18886              24                    0  "
      ]
     },
     "execution_count": 2,
     "metadata": {},
     "output_type": "execute_result"
    }
   ],
   "source": [
    "import pandas as pd\n",
    "\n",
    "columns_to_import = [\n",
    "    '#',\n",
    "    'How old are you?',\n",
    "    \"What's your gender?\",\n",
    "    'Which country are you a citizen of?',\n",
    "    'Which country do you currently live in?',\n",
    "    'About how many people live in your city?',\n",
    "    'Which language do you you speak at home with your family?',\n",
    "    'About how much money did you make last year (in US dollars)?',\n",
    "    'jobs_interested_in',\n",
    "    'expected_earnings',\n",
    "    'months_learning',\n",
    "    'total_spent_learning'\n",
    "]\n",
    "\n",
    "# Read in all relevant columns from the first dataset\n",
    "survey_data = pd.read_csv('./datasets/2017-new-coder-survey-part-2.csv', dtype='object')[columns_to_import]\n",
    "\n",
    "survey_data.head(3)\n",
    "survey_data.tail(3)\n"
   ]
  },
  {
   "cell_type": "markdown",
   "metadata": {},
   "source": [
    "### Initial Observations:\n",
    "\n",
    "- 18886 entries (95% of total respondents who answered both parts).\n",
    "- Standardize column names to easily understandable names.\n",
    "- Initially all types were object in import, generally true. Correct some.\n",
    "- Empty rows? Empty column data? What to do? (Later removing the null jobinterestedin)\n",
    "- Population size - categorical - rather be interval for analysis?\n",
    "\n",
    "We'll keep this in mind and analyze further in the cleaning stage."
   ]
  },
  {
   "cell_type": "markdown",
   "metadata": {},
   "source": [
    "## Checking Sample Representativity of Population\n",
    "\n",
    "Before starting to analyze the sample data we have, we need to clarify whether it's representative for our population of interest and it has the right categories of people for our purpose.\n",
    "\n",
    "The `jobs_interested_in` should be a good indicator of the surveyer's interest and whether enough people share interest that align with our product to be a representative of our population of interest (potential customers).\n",
    "\n",
    "Let's begin by understanding the frequency distribution of the jobs people are interested in."
   ]
  },
  {
   "cell_type": "code",
   "execution_count": 3,
   "metadata": {},
   "outputs": [
    {
     "data": {
      "text/plain": [
       "jobs_interested_in\n",
       "NaN                                                                                                                                                                                                                                           54.513687\n",
       "Full-Stack Web Developer                                                                                                                                                                                                                       5.199343\n",
       "  Front-End Web Developer                                                                                                                                                                                                                      2.885583\n",
       "  Data Scientist                                                                                                                                                                                                                               1.043045\n",
       "Back-End Web Developer                                                                                                                                                                                                                         0.926563\n",
       "                                                                                                                                                                                                                                                ...    \n",
       "  Data Scientist,   Front-End Web Developer,   Quality Assurance Engineer, Full-Stack Web Developer,   User Experience Designer, Back-End Web Developer, Data Engineer                                                                         0.005295\n",
       "Data Engineer,   Data Scientist, Information Security,   Front-End Web Developer,   User Experience Designer                                                                                                                                   0.005295\n",
       "  Data Scientist,   Front-End Web Developer,   Product Manager, Data Engineer                                                                                                                                                                  0.005295\n",
       "Data Engineer, Back-End Web Developer, Game Developer,   Product Manager,   DevOps / SysAdmin,   Mobile Developer, Information Security,   Data Scientist, Full-Stack Web Developer,   User Experience Designer,   Front-End Web Developer     0.005295\n",
       "  User Experience Designer,   Data Scientist,   Mobile Developer, Full-Stack Web Developer,   Front-End Web Developer, Back-End Web Developer, Data Engineer                                                                                   0.005295\n",
       "Name: proportion, Length: 3847, dtype: float64"
      ]
     },
     "execution_count": 3,
     "metadata": {},
     "output_type": "execute_result"
    }
   ],
   "source": [
    "# Generate the frequency distribution table for surveyer's jobs of interest\n",
    "survey_data['jobs_interested_in'].value_counts(normalize=True, dropna=False) * 100"
   ]
  },
  {
   "cell_type": "markdown",
   "metadata": {},
   "source": [
    "Quite granular and difficult to assess the information. Few notes:\n",
    "- Looks like Full-Stack Web Develope is the top most frequent stand-alone choice (5%).\n",
    "- However, a lot are NaN, indicating that over half (55%) of surveyers did'nt have a clear choice.\n",
    "\n",
    "We'll remove the na temperoraily to avoid skewing our analysis."
   ]
  },
  {
   "cell_type": "code",
   "execution_count": 4,
   "metadata": {},
   "outputs": [
    {
     "data": {
      "text/plain": [
       "jobs_interested_in\n",
       "Full-Stack Web Developer                                                                                                                                                                                                                      11.430567\n",
       "  Front-End Web Developer                                                                                                                                                                                                                      6.343848\n",
       "  Data Scientist                                                                                                                                                                                                                               2.293097\n",
       "Back-End Web Developer                                                                                                                                                                                                                         2.037015\n",
       "Game Developer                                                                                                                                                                                                                                 1.722733\n",
       "                                                                                                                                                                                                                                                ...    \n",
       "  Data Scientist,   Front-End Web Developer,   Quality Assurance Engineer, Full-Stack Web Developer,   User Experience Designer, Back-End Web Developer, Data Engineer                                                                         0.011640\n",
       "Data Engineer,   Data Scientist, Information Security,   Front-End Web Developer,   User Experience Designer                                                                                                                                   0.011640\n",
       "  Data Scientist,   Front-End Web Developer,   Product Manager, Data Engineer                                                                                                                                                                  0.011640\n",
       "Data Engineer, Back-End Web Developer, Game Developer,   Product Manager,   DevOps / SysAdmin,   Mobile Developer, Information Security,   Data Scientist, Full-Stack Web Developer,   User Experience Designer,   Front-End Web Developer     0.011640\n",
       "  User Experience Designer,   Data Scientist,   Mobile Developer, Full-Stack Web Developer,   Front-End Web Developer, Back-End Web Developer, Data Engineer                                                                                   0.011640\n",
       "Name: proportion, Length: 3846, dtype: float64"
      ]
     },
     "execution_count": 4,
     "metadata": {},
     "output_type": "execute_result"
    },
    {
     "data": {
      "text/plain": [
       "8591"
      ]
     },
     "execution_count": 4,
     "metadata": {},
     "output_type": "execute_result"
    }
   ],
   "source": [
    "# Drop nulls\n",
    "interest_non_null = survey_data.copy().loc[survey_data['jobs_interested_in'].notnull(), 'jobs_interested_in']\n",
    "\n",
    "interest_non_null.value_counts(normalize=True, dropna=False) * 100\n",
    "\n",
    "interest_non_null.count()\n"
   ]
  },
  {
   "cell_type": "code",
   "execution_count": 5,
   "metadata": {},
   "outputs": [
    {
     "data": {
      "text/plain": [
       "jobs_interested_in\n",
       "1     31.730881\n",
       "3     15.562798\n",
       "4     15.306716\n",
       "5     11.849610\n",
       "2     10.732162\n",
       "6      6.844372\n",
       "7      3.957630\n",
       "8      1.885694\n",
       "9      1.070888\n",
       "10     0.465604\n",
       "12     0.349203\n",
       "11     0.209522\n",
       "13     0.034920\n",
       "Name: proportion, dtype: float64"
      ]
     },
     "execution_count": 5,
     "metadata": {},
     "output_type": "execute_result"
    }
   ],
   "source": [
    "# Count number of people interested in 1 or more courese distribution\n",
    "\n",
    "split_interests_col = interest_non_null.str.split(',')\n",
    "split_interests_col.str.len().value_counts(normalize=True) * 100"
   ]
  },
  {
   "cell_type": "code",
   "execution_count": 6,
   "metadata": {},
   "outputs": [
    {
     "data": {
      "text/plain": [
       "7800"
      ]
     },
     "execution_count": 6,
     "metadata": {},
     "output_type": "execute_result"
    },
    {
     "data": {
      "text/plain": [
       "jobs_interested_in\n",
       "True     90.79269\n",
       "False     9.20731\n",
       "Name: proportion, dtype: float64"
      ]
     },
     "execution_count": 6,
     "metadata": {},
     "output_type": "execute_result"
    }
   ],
   "source": [
    "# Create boolean for main courses offered\n",
    "courses_bool = interest_non_null.str.lower().str.contains('web developer|mobile developer|data scientist')\n",
    "\n",
    "interest_non_null[courses_bool].count()\n",
    "\n",
    "courses_bool.value_counts(normalize=True) * 100\n"
   ]
  },
  {
   "cell_type": "code",
   "execution_count": 7,
   "metadata": {},
   "outputs": [
    {
     "data": {
      "text/plain": [
       "<Axes: xlabel='jobs_interested_in'>"
      ]
     },
     "execution_count": 7,
     "metadata": {},
     "output_type": "execute_result"
    },
    {
     "data": {
      "image/png": "[encoded data removed]",
      "text/plain": [
       "<Figure size 640x480 with 1 Axes>"
      ]
     },
     "metadata": {},
     "output_type": "display_data"
    }
   ],
   "source": [
    "import matplotlib.pyplot as plt\n",
    "\n",
    "(courses_bool.value_counts(normalize=True)*100).plot.bar()"
   ]
  },
  {
   "cell_type": "markdown",
   "metadata": {},
   "source": [
    "31.7% had a clear idea of one programming course. The rest 100-32 had multiple courses. For an e-learning company offereing multiple topics of interest, this might translate to they're being the potential customers interestd in more than one product and therefore more opportunities to convert them to a loyal customer who will likely pay the monthly subs fee to continue learning multiple courses offered."
   ]
  },
  {
   "cell_type": "markdown",
   "metadata": {},
   "source": [
    "Out of all 8,591 non-null entries, 7,800 people are interested in either roles related to web development or mobile development, making up roughly 91% of survey takers who had specified their interests."
   ]
  },
  {
   "cell_type": "markdown",
   "metadata": {},
   "source": [
    "Data seems representative (91%) survey's interested in one of the most popular courses offered by the company."
   ]
  },
  {
   "cell_type": "markdown",
   "metadata": {},
   "source": [
    "## Clean and Prep Data for Further Analysis\n",
    "\n",
    "Now that we know our dataset is representative of population adn goal of interest. \n",
    "\n",
    "- 18886 entries (95% of total respondents who answered both parts).\n",
    "- Standardize column names to easily understandable names.\n",
    "- Initially all types were object in import, generally true. Correct some.\n",
    "- Empty rows? Empty column data? What to do? (Later removing the null jobinterestedin)\n",
    "- Population size - categorical - rather be interval for analysis?"
   ]
  },
  {
   "cell_type": "markdown",
   "metadata": {},
   "source": [
    "**1. Simplify Column Names**\n"
   ]
  },
  {
   "cell_type": "code",
   "execution_count": 8,
   "metadata": {},
   "outputs": [
    {
     "data": {
      "text/plain": [
       "Index(['#', 'How old are you?', 'What's your gender?',\n",
       "       'Which country are you a citizen of?',\n",
       "       'Which country do you currently live in?',\n",
       "       'About how many people live in your city?',\n",
       "       'Which language do you you speak at home with your family?',\n",
       "       'About how much money did you make last year (in US dollars)?',\n",
       "       'jobs_interested_in', 'expected_earnings', 'months_learning',\n",
       "       'total_spent_learning'],\n",
       "      dtype='object')"
      ]
     },
     "execution_count": 8,
     "metadata": {},
     "output_type": "execute_result"
    }
   ],
   "source": [
    "# View all column names\n",
    "survey_data.columns"
   ]
  },
  {
   "cell_type": "code",
   "execution_count": 9,
   "metadata": {},
   "outputs": [
    {
     "data": {
      "text/plain": [
       "Index(['Id', 'Age', 'Gender', 'CountryCitizen', 'CountryLive',\n",
       "       'CityPopulation', 'Language', 'IncomePrevYear', 'JobRoleInterest',\n",
       "       'ExpectedIncome', 'MonthsProgramming', 'MoneyForLearning'],\n",
       "      dtype='object')"
      ]
     },
     "execution_count": 9,
     "metadata": {},
     "output_type": "execute_result"
    }
   ],
   "source": [
    "# Create a dictionary to update the column names\n",
    "simplified_names = ['Id', 'Age', 'Gender', 'CountryCitizen', 'CountryLive', 'CityPopulation', 'Language', 'IncomePrevYear', 'JobRoleInterest', 'ExpectedIncome', 'MonthsProgramming', 'MoneyForLearning', ]\n",
    "\n",
    "column_mapping = {}\n",
    "\n",
    "# For Loop to create a column names mapping\n",
    "for i, j in zip(survey_data.columns, simplified_names):\n",
    "    column_mapping[i] = j\n",
    "\n",
    "survey_data.rename(columns=column_mapping, inplace=True)\n",
    "\n",
    "survey_data.columns"
   ]
  },
  {
   "cell_type": "markdown",
   "metadata": {},
   "source": [
    "**2. Correct data types**\n",
    "\n",
    "Initially, all data types were inported as objects. We might want to change some of them so it better represents the data and provided for an accurate calculation during analysis."
   ]
  },
  {
   "cell_type": "code",
   "execution_count": 10,
   "metadata": {},
   "outputs": [
    {
     "data": {
      "text/plain": [
       "Age                  object\n",
       "MonthsProgramming    object\n",
       "MoneyForLearning     object\n",
       "dtype: object"
      ]
     },
     "execution_count": 10,
     "metadata": {},
     "output_type": "execute_result"
    }
   ],
   "source": [
    "# \n",
    "cols_to_update = ['Age', 'MonthsProgramming', 'MoneyForLearning']\n",
    "\n",
    "survey_data[cols_to_update].dtypes"
   ]
  },
  {
   "cell_type": "markdown",
   "metadata": {},
   "source": [
    "- It makes sense to remove convert age, population, income related columns, money for learning, months programming to int as we plan on performing calculations with some of these columns later."
   ]
  },
  {
   "cell_type": "code",
   "execution_count": 17,
   "metadata": {},
   "outputs": [],
   "source": [
    "# # Function to clean up  a list of bad characters\n",
    "\n",
    "# def cleanColumn(cols,bad_chars):\n",
    "#     for col in cols:\n",
    "#         for char in bad_chars:\n",
    "#             col = col.replace(char, '')\n",
    "\n",
    "# survey_data[col] = survey_data[col].str.split('-')[1]\n"
   ]
  },
  {
   "cell_type": "code",
   "execution_count": 15,
   "metadata": {},
   "outputs": [
    {
     "data": {
      "text/plain": [
       "0        34.0\n",
       "1        26.0\n",
       "2        21.0\n",
       "3        26.0\n",
       "4        20.0\n",
       "         ... \n",
       "18882    46.0\n",
       "18883    25.0\n",
       "18884    24.0\n",
       "18885    21.0\n",
       "18886     NaN\n",
       "Name: Age, Length: 18886, dtype: float64"
      ]
     },
     "execution_count": 15,
     "metadata": {},
     "output_type": "execute_result"
    }
   ],
   "source": [
    "# Bad char\n",
    "bad_char = ['xxxxx']\n",
    "\n",
    "# Change datatypes\n",
    "#cleanColumn(survey_data[cols_to_update], bad_char)\n",
    "\n",
    "# survey_data['Age'].apply(sum)\n",
    "\n",
    "# for col in cols_to_update:\n",
    "#     survey_data[col] = survey_data[col].replace('xxxxx', '0')\n",
    "#     survey_data[col] = survey_data[col].replace('', '0')\n",
    "#     survey_data[col] = survey_data[col].str.replace(',', '')\n",
    "#     survey_data[col] = survey_data[col].str.replace('over $', '')\n",
    "#     survey_data[col] = survey_data[col].str.replace(' monthly', '')\n",
    "\n",
    "survey_data['Age'].astype(float)\n",
    "survey_data['MonthsProgramming'] = survey_data['MonthsProgramming'].str.replace(' months', '')\n",
    "survey_data['MonthsProgramming'] = survey_data['MonthsProgramming'].str.replace(' mont', '')\n",
    "survey_data['MonthsProgramming'] = survey_data['MonthsProgramming'].str.replace('xxxxx', '0')\n",
    "survey_data['MonthsProgramming'] = survey_data['MonthsProgramming'].astype(str)\n",
    "\n",
    "# Drop rows where 'MonthsProgramming' column contains 'code camp'\n",
    "survey_data = survey_data[~survey_data['MonthsProgramming'].str.contains('code camp')]\n",
    "\n",
    "# survey_data[cols_to_update].astype(float)"
   ]
  },
  {
   "cell_type": "code",
   "execution_count": 16,
   "metadata": {},
   "outputs": [
    {
     "data": {
      "text/plain": [
       "0          6.0\n",
       "1         48.0\n",
       "2          5.0\n",
       "3          5.0\n",
       "4         24.0\n",
       "         ...  \n",
       "18882    100.0\n",
       "18883      9.0\n",
       "18884     23.0\n",
       "18885     18.0\n",
       "18886     24.0\n",
       "Name: MonthsProgramming, Length: 18886, dtype: float64"
      ]
     },
     "execution_count": 16,
     "metadata": {},
     "output_type": "execute_result"
    }
   ],
   "source": [
    "survey_data['MonthsProgramming'].astype(float)"
   ]
  },
  {
   "cell_type": "markdown",
   "metadata": {},
   "source": [
    "**3. Remove null values**\n",
    "\n",
    "Since one of our criteria is to find if those participants interested in the courses offered, we'll drop all the rows where participants didn't answer what role they are interested in. Where a participant didn't respond, we can't know for sure what their interests are, so it's better if we leave out this category of participants."
   ]
  },
  {
   "cell_type": "code",
   "execution_count": 23,
   "metadata": {},
   "outputs": [
    {
     "data": {
      "text/plain": [
       "JobRoleInterest\n",
       "NaN                                                                                                                                                                                                                                           54.516573\n",
       "Full-Stack Web Developer                                                                                                                                                                                                                       5.199619\n",
       "  Front-End Web Developer                                                                                                                                                                                                                      2.885735\n",
       "  Data Scientist                                                                                                                                                                                                                               1.043101\n",
       "Back-End Web Developer                                                                                                                                                                                                                         0.926612\n",
       "                                                                                                                                                                                                                                                ...    \n",
       "  Data Scientist,   Front-End Web Developer,   Quality Assurance Engineer, Full-Stack Web Developer,   User Experience Designer, Back-End Web Developer, Data Engineer                                                                         0.005295\n",
       "Data Engineer,   Data Scientist, Information Security,   Front-End Web Developer,   User Experience Designer                                                                                                                                   0.005295\n",
       "  Data Scientist,   Front-End Web Developer,   Product Manager, Data Engineer                                                                                                                                                                  0.005295\n",
       "Data Engineer, Back-End Web Developer, Game Developer,   Product Manager,   DevOps / SysAdmin,   Mobile Developer, Information Security,   Data Scientist, Full-Stack Web Developer,   User Experience Designer,   Front-End Web Developer     0.005295\n",
       "  User Experience Designer,   Data Scientist,   Mobile Developer, Full-Stack Web Developer,   Front-End Web Developer, Back-End Web Developer, Data Engineer                                                                                   0.005295\n",
       "Name: proportion, Length: 3847, dtype: float64"
      ]
     },
     "execution_count": 23,
     "metadata": {},
     "output_type": "execute_result"
    }
   ],
   "source": [
    "# Drop rows where JobsInterestedIn is null\n",
    "\n",
    "survey_data['JobRoleInterest'].value_counts(dropna=False, normalize=True) * 100\n"
   ]
  },
  {
   "cell_type": "code",
   "execution_count": 29,
   "metadata": {},
   "outputs": [
    {
     "data": {
      "text/plain": [
       "JobRoleInterest\n",
       "Full-Stack Web Developer                                                                                                                                                                                                                      11.431898\n",
       "  Front-End Web Developer                                                                                                                                                                                                                      6.344587\n",
       "  Data Scientist                                                                                                                                                                                                                               2.293364\n",
       "Back-End Web Developer                                                                                                                                                                                                                         2.037253\n",
       "Game Developer                                                                                                                                                                                                                                 1.722934\n",
       "                                                                                                                                                                                                                                                ...    \n",
       "  Data Scientist,   Front-End Web Developer,   Quality Assurance Engineer, Full-Stack Web Developer,   User Experience Designer, Back-End Web Developer, Data Engineer                                                                         0.011641\n",
       "Data Engineer,   Data Scientist, Information Security,   Front-End Web Developer,   User Experience Designer                                                                                                                                   0.011641\n",
       "  Data Scientist,   Front-End Web Developer,   Product Manager, Data Engineer                                                                                                                                                                  0.011641\n",
       "Data Engineer, Back-End Web Developer, Game Developer,   Product Manager,   DevOps / SysAdmin,   Mobile Developer, Information Security,   Data Scientist, Full-Stack Web Developer,   User Experience Designer,   Front-End Web Developer     0.011641\n",
       "  User Experience Designer,   Data Scientist,   Mobile Developer, Full-Stack Web Developer,   Front-End Web Developer, Back-End Web Developer, Data Engineer                                                                                   0.011641\n",
       "Name: proportion, Length: 3846, dtype: float64"
      ]
     },
     "execution_count": 29,
     "metadata": {},
     "output_type": "execute_result"
    }
   ],
   "source": [
    "# Drop rows where JobsInterestedIn is null\n",
    "survey_data = survey_data[survey_data['JobRoleInterest'].notnull()]\n",
    "\n",
    "survey_data['JobRoleInterest'].value_counts(dropna=False, normalize=True) * 100"
   ]
  },
  {
   "cell_type": "markdown",
   "metadata": {},
   "source": [
    "## Analysis\n",
    "\n",
    "We'd like to know:\n",
    " Where are these new coders located.\n",
    " What are the locations with the greatest number of new coders.\n",
    " How much money new coders are willing to spend on learning."
   ]
  },
  {
   "cell_type": "code",
   "execution_count": null,
   "metadata": {},
   "outputs": [],
   "source": []
  }
 ],
 "metadata": {
  "kernelspec": {
   "display_name": "Python 3",
   "language": "python",
   "name": "python3"
  },
  "language_info": {
   "codemirror_mode": {
    "name": "ipython",
    "version": 3
   },
   "file_extension": ".py",
   "mimetype": "text/x-python",
   "name": "python",
   "nbconvert_exporter": "python",
   "pygments_lexer": "ipython3",
   "version": "3.9.2"
  }
 },
 "nbformat": 4,
 "nbformat_minor": 2
}
